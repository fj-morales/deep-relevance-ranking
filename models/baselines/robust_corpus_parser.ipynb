{
 "cells": [
  {
   "cell_type": "code",
   "execution_count": 1,
   "metadata": {},
   "outputs": [],
   "source": [
    "# import re\n",
    "# import nltk\n",
    "import os\n",
    "\n",
    "# import bioasq_corpus_parser\n",
    "import utils\n",
    "import multiprocessing\n"
   ]
  },
  {
   "cell_type": "code",
   "execution_count": 2,
   "metadata": {},
   "outputs": [],
   "source": [
    "def get_filenames(data_dir):\n",
    "    filenames = [os.path.join(root, name)\n",
    "             for root, dirs, files in os.walk(data_dir)\n",
    "             for name in files\n",
    "             if \"DS_Store\" not in name\n",
    "           ]\n",
    "    return filenames"
   ]
  },
  {
   "cell_type": "code",
   "execution_count": 3,
   "metadata": {},
   "outputs": [],
   "source": [
    "def start_process():\n",
    "    pass\n",
    "#     print( 'Starting', multiprocessing.current_process().name)"
   ]
  },
  {
   "cell_type": "code",
   "execution_count": 4,
   "metadata": {},
   "outputs": [],
   "source": [
    "def process_file(file):\n",
    "    \n",
    "    filename = file.split('/')[-1:][0]\n",
    "    \n",
    "    outdir = to_index_dir + '/'.join(file.split('/')[-2:-1]) + '/'\n",
    "#     print(outdir)\n",
    "    \n",
    "    if not os.path.exists(outdir):\n",
    "        os.makedirs(outdir)\n",
    "    \n",
    "    file_out = outdir + filename\n",
    "    \n",
    "    open_tags = ['<H3>', '<HT>', '<TEXT>', '<HEADLINE>']\n",
    "    close_tags = ['</H3>', '</HT>', '</TEXT>', '</HEADLINE>']\n",
    "    try:\n",
    "        with open(file, 'rt', encoding = \"ISO-8859-1\") as input_f, open(file_out, 'wt', encoding = \"utf-8\") as out_f:\n",
    "\n",
    "            lines  = []\n",
    "    #         i = 0\n",
    "            open_tag = False\n",
    "            for line in input_f:\n",
    "    #             i += 1\n",
    "    #             if i> 200:\n",
    "    #                 break\n",
    "                if any(tag in line for tag in close_tags):\n",
    "                    out_f.write(line)\n",
    "                    open_tag = False\n",
    "    #                 print(line)\n",
    "                    continue\n",
    "\n",
    "                elif any(tag in line for tag in open_tags):\n",
    "                    open_tag = True\n",
    "                    out_f.write(line)\n",
    "    #                 print(line)\n",
    "                    continue\n",
    "\n",
    "                if open_tag:\n",
    "    #                 print('change')\n",
    "                    line = utils.remove_sc(line) + '\\n'\n",
    "\n",
    "                out_f.write(line)\n",
    "                print('Saved :', file_out)    \n",
    "    except:\n",
    "        print('error processing file :', file)    "
   ]
  },
  {
   "cell_type": "code",
   "execution_count": 5,
   "metadata": {},
   "outputs": [],
   "source": [
    "def corpus_parser(data_dir, to_index_dir, pool_size):\n",
    "    pass"
   ]
  },
  {
   "cell_type": "code",
   "execution_count": 7,
   "metadata": {},
   "outputs": [
    {
     "name": "stdout",
     "output_type": "stream",
     "text": [
      "492\n"
     ]
    }
   ],
   "source": [
    "if __name__ == \"__main__\":\n",
    "    \n",
    "    data_dir = '/ssd2/francisco/robust_corpus/'\n",
    "    \n",
    "    \n",
    "    to_index_dir = './robust_dir/robust_corpus/'\n",
    "    \n",
    "    pool_size = 10\n",
    "    \n",
    "    corpus_files = get_filenames(data_dir)\n",
    "    \n",
    "#     corpus_files = corpus_files[0:10]\n",
    "    \n",
    "    print(len(corpus_files))\n",
    "    \n",
    "    pool = multiprocessing.Pool(processes=pool_size,\n",
    "                            initializer=start_process,\n",
    "                            )\n",
    "\n",
    "#     pool_outputs = pool.map(baseline_computing, params)\n",
    "\n",
    "\n",
    "    pool.map_async(process_file, corpus_files)\n",
    "\n",
    "    pool.close() # no more tasks\n",
    "\n",
    "    pool.join()  # wrap up current tasks"
   ]
  }
 ],
 "metadata": {
  "kernelspec": {
   "display_name": "Python 3",
   "language": "python",
   "name": "python3"
  },
  "language_info": {
   "codemirror_mode": {
    "name": "ipython",
    "version": 3
   },
   "file_extension": ".py",
   "mimetype": "text/x-python",
   "name": "python",
   "nbconvert_exporter": "python",
   "pygments_lexer": "ipython3",
   "version": "3.7.3"
  }
 },
 "nbformat": 4,
 "nbformat_minor": 2
}
