{
 "cells": [
  {
   "cell_type": "code",
   "execution_count": 1,
   "metadata": {},
   "outputs": [],
   "source": [
    "# Imports\n",
    "import os\n",
    "import subprocess\n",
    "import sys\n",
    "\n",
    "# REMOVE!!\n",
    "from ir_utils import *\n",
    "\n",
    "# model\n",
    "\n",
    "from ir_lmart import *\n",
    "\n",
    "# HPO\n",
    "\n",
    "from hpo import *\n",
    "from HpoWorker import *\n",
    "\n",
    "import ConfigSpace as CS\n",
    "import ConfigSpace.hyperparameters as CSH\n",
    "\n",
    "# from hpbandster.core.worker import Worker\n",
    "\n",
    "import logging\n",
    "logging.basicConfig(level=logging.WARNING)\n",
    "\n",
    "# HPO server and stuff\n",
    "\n",
    "# import logging\n",
    "# logging.basicConfig(level=logging.WARNING)\n",
    "\n",
    "import argparse\n",
    "\n",
    "import hpbandster.core.nameserver as hpns\n",
    "import hpbandster.core.result as hpres\n",
    "\n",
    "from hpbandster.optimizers import BOHB as BOHB\n",
    "from hpbandster.optimizers import RandomSearch as RS\n",
    "from hpbandster.examples.commons import MyWorker\n",
    "import random\n",
    "\n",
    "# In[2]:\n",
    "\n",
    "\n",
    "# In[3]:"
   ]
  },
  {
   "cell_type": "code",
   "execution_count": null,
   "metadata": {},
   "outputs": [],
   "source": []
  },
  {
   "cell_type": "code",
   "execution_count": 2,
   "metadata": {},
   "outputs": [],
   "source": [
    "def tickets(max):\n",
    "    return {i:i for i in range(1,max)}"
   ]
  },
  {
   "cell_type": "code",
   "execution_count": 3,
   "metadata": {},
   "outputs": [],
   "source": [
    "million_tickets = tickets(1000000)"
   ]
  },
  {
   "cell_type": "code",
   "execution_count": 4,
   "metadata": {},
   "outputs": [
    {
     "data": {
      "text/plain": [
       "999999"
      ]
     },
     "execution_count": 4,
     "metadata": {},
     "output_type": "execute_result"
    }
   ],
   "source": [
    "len(million_tickets)"
   ]
  },
  {
   "cell_type": "code",
   "execution_count": 5,
   "metadata": {},
   "outputs": [],
   "source": [
    "def get_train_budget_data_file(budget, query_list, train_data_file):\n",
    "    # Budget is percentage of training data: \n",
    "    # min_budget = 10%\n",
    "    # max_budget = 100%\n",
    "    if (int(budget) <= 100 or int(budget) >= 10):\n",
    "        len_queries = len(query_list)\n",
    "        budgeted_queries = round(len_queries * (budget / 100))\n",
    "        print('total budget:', len_queries)\n",
    "        print('allocated budget:', budgeted_queries)\n",
    "        train_budget_queries_file = train_data_file + '_budget' + str(budget)\n",
    "        if not os.path.exists(train_budget_queries_file):\n",
    "            with open(train_data_file, 'rt') as f_in:\n",
    "                with open(train_budget_queries_file, 'wt') as budget_file_out:\n",
    "                    for query_feature in f_in:                        \n",
    "                        qid = query_feature.split()[1].split(':')[1]\n",
    "#                         print(qid)\n",
    "                        if qid in query_list[0:budgeted_queries]:\n",
    "                            \n",
    "                            budget_file_out.write(query_feature)\n",
    "        else:\n",
    "            print(\"File already exists\")\n",
    "            return train_budget_queries_file                \n",
    "    else:\n",
    "        print('Budget is outside the limits (10% < b < 100%): ', budget)\n",
    "        return "
   ]
  },
  {
   "cell_type": "code",
   "execution_count": 6,
   "metadata": {},
   "outputs": [],
   "source": [
    "# Functions\n",
    "def generate_run_file(pre_run_file, run_file):\n",
    "    \n",
    "    with open(pre_run_file, 'rt') as input_f:\n",
    "        pre_run = input_f.readlines()\n",
    "#         print(type(pre_run))\n",
    "    with open(run_file, 'wt') as out_f:\n",
    "        for line in pre_run:\n",
    "            out_f.write(line.replace('docid=','').replace('indri', 'lambdaMART'))\n",
    "        \n",
    "# In[4]:"
   ]
  },
  {
   "cell_type": "code",
   "execution_count": 7,
   "metadata": {},
   "outputs": [],
   "source": [
    "class fakeParser:\n",
    "    def __init__(self):\n",
    "        self.min_budget = 1\n",
    "        self.max_budget = 100\n",
    "        self.n_iterations = 20\n",
    "        self.n_workers = 1\n",
    "        self.hpo_method = 'rs'\n",
    "        "
   ]
  },
  {
   "cell_type": "code",
   "execution_count": 8,
   "metadata": {},
   "outputs": [],
   "source": [
    "# Main\n",
    "if __name__ == \"__main__\":\n",
    "    \n",
    "    # Options and variables\n",
    "    \n",
    "    parser = argparse.ArgumentParser(description='Example 1 - sequential and local execution.')\n",
    "    parser.add_argument('--min_budget',   type=int, help='Minimum budget used during the optimization.',    default=10)\n",
    "    parser.add_argument('--max_budget',   type=int, help='Maximum budget used during the optimization.',    default=100)\n",
    "    parser.add_argument('--n_iterations', type=int,   help='Number of iterations performed by the optimizer', default=500)\n",
    "    parser.add_argument('--n_workers', type=int,   help='Number of workers to run in parallel.', default=5)\n",
    "\n",
    "#     args=parser.parse_args()\n",
    "    args = fakeParser()\n",
    "    hpo_method = args.hpo_method\n",
    "#     dataset = sys.argv[1] # 'bioasq'\n",
    "#     workdir = './' + dataset + '_dir/'\n",
    "#     data_split = sys.argv[2] # 'test'\n",
    "\n",
    "    dataset = 'bioasq'\n",
    "    workdir = './' + dataset + '_dir/'\n",
    "    data_split =  'train'\n",
    "    k_fold = 's1' \n",
    "    ranklib_location = '../../../ranklib/'\n",
    "    \n",
    "    \n",
    "    \n",
    "#     train_data_file = './bioasq_dir/bioasq.trai_features_reduced'\n",
    "#     val_data_file = './bioasq_dir/bioasq.dev_features_reduced'\n",
    "#     test_data_file = './bioasq_dir/bioasq.test_features_reduced'\n",
    "    \n",
    "    train_data_file = './bioasq_dir/bioasq_train_features'\n",
    "    val_data_file = './bioasq_dir/bioasq_dev_features'\n",
    "    test_data_file = './bioasq_dir/bioasq_test_features'\n",
    "    \n",
    "    l2r_model = '_lmart_'\n",
    "    "
   ]
  },
  {
   "cell_type": "code",
   "execution_count": 9,
   "metadata": {},
   "outputs": [],
   "source": [
    "    confdir = './' + dataset + '_config/'\n",
    "    enabled_features_file = confdir + dataset + l2r_model + 'enabled_features'\n",
    "    \n",
    "    \n",
    "    metric2t = 'MAP' # 'MAP, NDCG@k, DCG@k, P@k, RR@k, ERR@k (default=ERR@10)'\n",
    "    \n",
    "    ranker_type = '6' # LambdaMART\n",
    "    \n",
    "    # normalization: Feature Engineering?\n",
    "    norm_params = ['-norm', 'zscore'] # 'sum', 'zscore', 'linear'\n",
    "    \n",
    "    l2r_params = [\n",
    "        '-validate',\n",
    "        val_data_file,\n",
    "        '-ranker',\n",
    "        ranker_type,\n",
    "        '-metric2t',\n",
    "        metric2t,\n",
    "        '-feature',\n",
    "        enabled_features_file\n",
    "    ]\n",
    "    \n",
    "    # Run train\n",
    "    \n",
    "#     lmart_model = L2Ranker(ranklib_location, l2r_params)\n",
    "    lmart_model = L2Ranker(ranklib_location, l2r_params, norm_params)\n",
    "    \n"
   ]
  },
  {
   "cell_type": "code",
   "execution_count": 10,
   "metadata": {},
   "outputs": [],
   "source": [
    "trec_eval_command = '../../eval/trec_eval'\n",
    "qrels_val_file = './bioasq_dir/bioasq_dev_qrels'\n"
   ]
  },
  {
   "cell_type": "code",
   "execution_count": null,
   "metadata": {},
   "outputs": [],
   "source": []
  },
  {
   "cell_type": "code",
   "execution_count": 11,
   "metadata": {},
   "outputs": [],
   "source": [
    "# Start a nameserver (see example_3)\n",
    "\n",
    "\n",
    "if hpo_method == 'rs':\n",
    "    hpo_run_id = \"RandomSearch\"\n",
    "elif hpo_method == 'bohb':\n",
    "    hpo_run_id = \"BOHB\"\n",
    "\n",
    "NS = hpns.NameServer(run_id = hpo_run_id, host='127.0.0.1', port=None)\n",
    "NS.start()\n",
    "\n",
    "\n",
    "# In[12]:\n",
    "\n",
    "save_model_prefix = workdir + 'ejemplo_model'\n",
    "run_file_prefix = workdir + 'run_ejemplo'\n",
    "\n",
    "train_queries_file = '../../bioasq_data/bioasq.' + 'train' + '.json'\n",
    "            \n",
    "query_list = load_queries(train_queries_file)\n",
    "qid_list = [q['id'] for q in query_list] \n",
    "\n",
    "\n",
    "\n",
    "len_queries = len(qid_list) \n",
    "real_max_budget = round((len_queries * args.max_budget) / 100)\n",
    "real_min_budget = round((len_queries * args.min_budget) / 100)\n",
    "\n",
    "# train_features_file =  fold_dir + dataset + '_' + 'train' + '_features'\n",
    "train_features_file =  workdir + dataset + '_' + 'train' + '_features'\n",
    "\n",
    "\n",
    "budget_train_features_file = train_data_file\n",
    "# budget_train_features_file = workdir + 'budget_ejemplo'\n",
    "\n",
    "\n",
    "workers=[]\n",
    "for i in range(args.n_workers):\n",
    "    worker = HpoWorker(lmart_model, save_model_prefix, run_file_prefix, budget_train_features_file, qid_list, trec_eval_command, \n",
    "                       qrels_val_file, million_tickets, nameserver='127.0.0.1',run_id=hpo_run_id, id=i)\n",
    "    worker.run(background=True)\n",
    "    workers.append(worker)\n",
    "\n",
    "\n",
    "# In[13]:"
   ]
  },
  {
   "cell_type": "code",
   "execution_count": 12,
   "metadata": {},
   "outputs": [],
   "source": [
    "# # Run an optimizer (see example_2)\n"
   ]
  },
  {
   "cell_type": "code",
   "execution_count": 13,
   "metadata": {},
   "outputs": [
    {
     "name": "stdout",
     "output_type": "stream",
     "text": [
      "Model saved:  ./bioasq_dir/ejemplo_model_id1_budget1751_leaves20_lr0.42_n600\n",
      "Run error:  None\n",
      "Model saved:  ./bioasq_dir/ejemplo_model_id2_budget1751_leaves100_lr0.17_n1150\n",
      "Run error:  None\n",
      "Model saved:  ./bioasq_dir/ejemplo_model_id3_budget1751_leaves5_lr0.48_n2000\n",
      "Run error:  None\n",
      "Model saved:  ./bioasq_dir/ejemplo_model_id4_budget1751_leaves25_lr0.14_n2000\n",
      "Run error:  None\n",
      "Model saved:  ./bioasq_dir/ejemplo_model_id5_budget1751_leaves65_lr0.43_n1950\n",
      "Run error:  None\n",
      "Model saved:  ./bioasq_dir/ejemplo_model_id6_budget1751_leaves50_lr0.5_n800\n",
      "Run error:  None\n",
      "Model saved:  ./bioasq_dir/ejemplo_model_id7_budget1751_leaves70_lr0.19_n1350\n",
      "Run error:  None\n",
      "Model saved:  ./bioasq_dir/ejemplo_model_id8_budget1751_leaves95_lr0.32_n1250\n",
      "Run error:  None\n",
      "Model saved:  ./bioasq_dir/ejemplo_model_id9_budget1751_leaves35_lr0.14_n1550\n",
      "Run error:  None\n",
      "Model saved:  ./bioasq_dir/ejemplo_model_id10_budget1751_leaves95_lr0.11_n850\n",
      "Run error:  None\n",
      "Model saved:  ./bioasq_dir/ejemplo_model_id11_budget1751_leaves95_lr0.33_n1300\n",
      "Run error:  None\n",
      "Model saved:  ./bioasq_dir/ejemplo_model_id12_budget1751_leaves45_lr0.07_n1600\n",
      "Run error:  None\n",
      "Model saved:  ./bioasq_dir/ejemplo_model_id13_budget1751_leaves65_lr0.08_n450\n",
      "Run error:  None\n",
      "Model saved:  ./bioasq_dir/ejemplo_model_id14_budget1751_leaves10_lr0.48_n1050\n",
      "Run error:  None\n",
      "Model saved:  ./bioasq_dir/ejemplo_model_id15_budget1751_leaves40_lr0.15_n1450\n",
      "Run error:  None\n",
      "Model saved:  ./bioasq_dir/ejemplo_model_id16_budget1751_leaves0_lr0.22_n1150\n",
      "Run error:  None\n",
      "Model saved:  ./bioasq_dir/ejemplo_model_id17_budget1751_leaves5_lr0.19_n100\n",
      "Run error:  None\n",
      "Model saved:  ./bioasq_dir/ejemplo_model_id18_budget1751_leaves95_lr0.24_n750\n",
      "Run error:  None\n",
      "Model saved:  ./bioasq_dir/ejemplo_model_id19_budget1751_leaves5_lr0.4_n1800\n",
      "Run error:  None\n",
      "Model saved:  ./bioasq_dir/ejemplo_model_id20_budget1751_leaves85_lr0.29_n450\n",
      "Run error:  None\n"
     ]
    }
   ],
   "source": [
    "# Random search\n",
    "\n",
    "if hpo_method == 'rs':\n",
    "    rs = RS(  configspace = worker.get_configspace(),\n",
    "                          run_id = hpo_run_id, \n",
    "                          min_budget = real_max_budget, max_budget = real_max_budget\n",
    "                   )\n",
    "    res = rs.run(n_iterations = args.n_iterations, min_n_workers = args.n_workers)\n",
    "\n",
    "    rs.shutdown(shutdown_workers=True)\n",
    "elif hpo_method == 'bohb':\n",
    "    bohb = BOHB(  configspace = worker.get_configspace(),\n",
    "                          run_id = hpo_run_id, \n",
    "                          min_budget = real_min_budget, max_budget = real_max_budget\n",
    "                   )\n",
    "    res = bohb.run(n_iterations = args.n_iterations, min_n_workers = args.n_workers)\n",
    "    bohb.shutdown(shutdown_workers=True)\n",
    "\n",
    "\n",
    "# In[14]:\n",
    "\n",
    "\n",
    "# Step 4: Shutdown\n",
    "# After the optimizer run, we must shutdown the master and the nameserver.\n",
    "\n"
   ]
  },
  {
   "cell_type": "code",
   "execution_count": 14,
   "metadata": {},
   "outputs": [
    {
     "name": "stdout",
     "output_type": "stream",
     "text": [
      "Best found configuration: {'learning_rate': 0.07, 'n_leaves': 45, 'n_trees': 1600}\n",
      "A total of 20 unique configurations where sampled.\n",
      "A total of 20 runs where executed.\n",
      "Total budget corresponds to 350.2 full function evaluations.\n",
      "The run took  768.7 seconds to complete.\n"
     ]
    }
   ],
   "source": [
    "\n",
    "NS.shutdown()\n",
    "\n",
    "\n",
    "# In[15]:\n",
    "\n",
    "\n",
    "# Step 5: Analysis\n",
    "# Each optimizer returns a hpbandster.core.result.Result object.\n",
    "# It holds informations about the optimization run like the incumbent (=best) configuration.\n",
    "# For further details about the Result object, see its documentation.\n",
    "# Here we simply print out the best config and some statistics about the performed runs.\n",
    "id2config = res.get_id2config_mapping()\n",
    "incumbent = res.get_incumbent_id()\n",
    "\n",
    "\n",
    "# In[16]:\n",
    "\n",
    "\n",
    "all_runs = res.get_all_runs()\n",
    "\n",
    "\n",
    "\n",
    "print('Best found configuration:', id2config[incumbent]['config'])\n",
    "print('A total of %i unique configurations where sampled.' % len(id2config.keys()))\n",
    "print('A total of %i runs where executed.' % len(res.get_all_runs()))\n",
    "print('Total budget corresponds to %.1f full function evaluations.'%(sum([r.budget for r in all_runs])/args.max_budget))\n",
    "print('The run took  %.1f seconds to complete.'%(all_runs[-1].time_stamps['finished'] - all_runs[0].time_stamps['started']))\n",
    "\n",
    "\n",
    "# In[18]:\n",
    "\n",
    "\n",
    "#     qrels_test_file = './bioasq_dir/bioasq.test_qrels'\n",
    "#     run_val_file = './this.file'\n",
    "#     lmart_model = res['info']\n",
    "#     lmart_model.gen_run_file(test_data_file, run_val_file)\n",
    "#     eval(trec_eval_command, qrels_test_file, run_val_file)\n",
    "\n",
    "\n",
    "# In[10]:"
   ]
  },
  {
   "cell_type": "code",
   "execution_count": 15,
   "metadata": {},
   "outputs": [
    {
     "data": {
      "text/plain": [
       "(11, 0, 0)"
      ]
     },
     "execution_count": 15,
     "metadata": {},
     "output_type": "execute_result"
    }
   ],
   "source": [
    "res.get_incumbent_id()"
   ]
  },
  {
   "cell_type": "code",
   "execution_count": 16,
   "metadata": {},
   "outputs": [
    {
     "data": {
      "text/plain": [
       "{'config': {'learning_rate': 0.07, 'n_leaves': 45, 'n_trees': 1600},\n",
       " 'config_info': {}}"
      ]
     },
     "execution_count": 16,
     "metadata": {},
     "output_type": "execute_result"
    }
   ],
   "source": [
    "id2config[res.get_incumbent_id()]"
   ]
  },
  {
   "cell_type": "code",
   "execution_count": 17,
   "metadata": {},
   "outputs": [],
   "source": [
    "# res.get_learning_curves()"
   ]
  },
  {
   "cell_type": "code",
   "execution_count": 18,
   "metadata": {},
   "outputs": [
    {
     "data": {
      "text/plain": [
       "[config_id: (0, 0, 0)\tbudget: 1751.000000\tloss: 0.5718\n",
       " time_stamps: 0.0005159378051757812 (submitted), 0.004738330841064453 (started), 36.656166791915894 (finished)\n",
       " info: {'map': '0.4282', 'P_20': '0.2650', 'ndcg_cut_20': '0.5333'},\n",
       " config_id: (1, 0, 0)\tbudget: 1751.000000\tloss: 0.5651999999999999\n",
       " time_stamps: 36.65819764137268 (submitted), 36.65831446647644 (started), 86.41748905181885 (finished)\n",
       " info: {'map': '0.4348', 'P_20': '0.2655', 'ndcg_cut_20': '0.5446'},\n",
       " config_id: (2, 0, 0)\tbudget: 1751.000000\tloss: 0.567\n",
       " time_stamps: 86.4191586971283 (submitted), 86.41925644874573 (started), 104.33919620513916 (finished)\n",
       " info: {'map': '0.4330', 'P_20': '0.2600', 'ndcg_cut_20': '0.5357'},\n",
       " config_id: (3, 0, 0)\tbudget: 1751.000000\tloss: 0.5606\n",
       " time_stamps: 104.34061002731323 (submitted), 104.34068608283997 (started), 142.93805027008057 (finished)\n",
       " info: {'map': '0.4394', 'P_20': '0.2600', 'ndcg_cut_20': '0.5409'},\n",
       " config_id: (4, 0, 0)\tbudget: 1751.000000\tloss: 0.5710999999999999\n",
       " time_stamps: 142.9397270679474 (submitted), 142.93982315063477 (started), 192.02334833145142 (finished)\n",
       " info: {'map': '0.4289', 'P_20': '0.2605', 'ndcg_cut_20': '0.5343'},\n",
       " config_id: (5, 0, 0)\tbudget: 1751.000000\tloss: 0.5786\n",
       " time_stamps: 192.02536988258362 (submitted), 192.02561926841736 (started), 242.60141134262085 (finished)\n",
       " info: {'map': '0.4214', 'P_20': '0.2585', 'ndcg_cut_20': '0.5308'},\n",
       " config_id: (6, 0, 0)\tbudget: 1751.000000\tloss: 0.5635\n",
       " time_stamps: 242.6030023097992 (submitted), 242.60309481620789 (started), 297.04104804992676 (finished)\n",
       " info: {'map': '0.4365', 'P_20': '0.2615', 'ndcg_cut_20': '0.5383'},\n",
       " config_id: (7, 0, 0)\tbudget: 1751.000000\tloss: 0.585\n",
       " time_stamps: 297.04238772392273 (submitted), 297.04257893562317 (started), 352.15541648864746 (finished)\n",
       " info: {'map': '0.4150', 'P_20': '0.2460', 'ndcg_cut_20': '0.5182'},\n",
       " config_id: (8, 0, 0)\tbudget: 1751.000000\tloss: 0.5603\n",
       " time_stamps: 352.1573951244354 (submitted), 352.15752124786377 (started), 394.8247604370117 (finished)\n",
       " info: {'map': '0.4397', 'P_20': '0.2605', 'ndcg_cut_20': '0.5437'},\n",
       " config_id: (9, 0, 0)\tbudget: 1751.000000\tloss: 0.5583\n",
       " time_stamps: 394.8263065814972 (submitted), 394.82643389701843 (started), 453.847540140152 (finished)\n",
       " info: {'map': '0.4417', 'P_20': '0.2655', 'ndcg_cut_20': '0.5473'},\n",
       " config_id: (10, 0, 0)\tbudget: 1751.000000\tloss: 0.5743\n",
       " time_stamps: 453.8489499092102 (submitted), 453.84912633895874 (started), 496.9131543636322 (finished)\n",
       " info: {'map': '0.4257', 'P_20': '0.2650', 'ndcg_cut_20': '0.5385'},\n",
       " config_id: (11, 0, 0)\tbudget: 1751.000000\tloss: 0.5561\n",
       " time_stamps: 496.9146263599396 (submitted), 496.91471791267395 (started), 563.5397827625275 (finished)\n",
       " info: {'map': '0.4439', 'P_20': '0.2665', 'ndcg_cut_20': '0.5485'},\n",
       " config_id: (12, 0, 0)\tbudget: 1751.000000\tloss: 0.5629\n",
       " time_stamps: 563.5413937568665 (submitted), 563.5414745807648 (started), 611.40740275383 (finished)\n",
       " info: {'map': '0.4371', 'P_20': '0.2610', 'ndcg_cut_20': '0.5382'},\n",
       " config_id: (13, 0, 0)\tbudget: 1751.000000\tloss: 0.5660000000000001\n",
       " time_stamps: 611.4106659889221 (submitted), 611.4107525348663 (started), 630.5251913070679 (finished)\n",
       " info: {'map': '0.4340', 'P_20': '0.2625', 'ndcg_cut_20': '0.5381'},\n",
       " config_id: (14, 0, 0)\tbudget: 1751.000000\tloss: 0.5634\n",
       " time_stamps: 630.5267312526703 (submitted), 630.5268368721008 (started), 663.8111228942871 (finished)\n",
       " info: {'map': '0.4366', 'P_20': '0.2660', 'ndcg_cut_20': '0.5444'},\n",
       " config_id: (15, 0, 0)\tbudget: 1751.000000\tloss: 0.5698\n",
       " time_stamps: 663.8126351833344 (submitted), 663.8129467964172 (started), 676.0214033126831 (finished)\n",
       " info: {'map': '0.4302', 'P_20': '0.2580', 'ndcg_cut_20': '0.5344'},\n",
       " config_id: (16, 0, 0)\tbudget: 1751.000000\tloss: 0.5633\n",
       " time_stamps: 676.0247821807861 (submitted), 676.0249090194702 (started), 687.3441185951233 (finished)\n",
       " info: {'map': '0.4367', 'P_20': '0.2655', 'ndcg_cut_20': '0.5436'},\n",
       " config_id: (17, 0, 0)\tbudget: 1751.000000\tloss: 0.5806\n",
       " time_stamps: 687.3456296920776 (submitted), 687.3457260131836 (started), 717.3069741725922 (finished)\n",
       " info: {'map': '0.4194', 'P_20': '0.2455', 'ndcg_cut_20': '0.5220'},\n",
       " config_id: (18, 0, 0)\tbudget: 1751.000000\tloss: 0.5710999999999999\n",
       " time_stamps: 717.3085796833038 (submitted), 717.3086578845978 (started), 734.8501827716827 (finished)\n",
       " info: {'map': '0.4289', 'P_20': '0.2565', 'ndcg_cut_20': '0.5292'},\n",
       " config_id: (19, 0, 0)\tbudget: 1751.000000\tloss: 0.5685\n",
       " time_stamps: 734.8527975082397 (submitted), 734.8528912067413 (started), 768.7070350646973 (finished)\n",
       " info: {'map': '0.4315', 'P_20': '0.2590', 'ndcg_cut_20': '0.5330'}]"
      ]
     },
     "execution_count": 18,
     "metadata": {},
     "output_type": "execute_result"
    }
   ],
   "source": [
    "res.get_all_runs()"
   ]
  },
  {
   "cell_type": "code",
   "execution_count": 19,
   "metadata": {},
   "outputs": [
    {
     "data": {
      "text/plain": [
       "{(0, 0, 0): {'config': {'learning_rate': 0.42, 'n_leaves': 20, 'n_trees': 600},\n",
       "  'config_info': {}},\n",
       " (1,\n",
       "  0,\n",
       "  0): {'config': {'learning_rate': 0.17,\n",
       "   'n_leaves': 100,\n",
       "   'n_trees': 1150}, 'config_info': {}},\n",
       " (2, 0, 0): {'config': {'learning_rate': 0.48, 'n_leaves': 5, 'n_trees': 2000},\n",
       "  'config_info': {}},\n",
       " (3,\n",
       "  0,\n",
       "  0): {'config': {'learning_rate': 0.14,\n",
       "   'n_leaves': 25,\n",
       "   'n_trees': 2000}, 'config_info': {}},\n",
       " (4,\n",
       "  0,\n",
       "  0): {'config': {'learning_rate': 0.43,\n",
       "   'n_leaves': 65,\n",
       "   'n_trees': 1950}, 'config_info': {}},\n",
       " (5, 0, 0): {'config': {'learning_rate': 0.5, 'n_leaves': 50, 'n_trees': 800},\n",
       "  'config_info': {}},\n",
       " (6,\n",
       "  0,\n",
       "  0): {'config': {'learning_rate': 0.19,\n",
       "   'n_leaves': 70,\n",
       "   'n_trees': 1350}, 'config_info': {}},\n",
       " (7,\n",
       "  0,\n",
       "  0): {'config': {'learning_rate': 0.32,\n",
       "   'n_leaves': 95,\n",
       "   'n_trees': 1250}, 'config_info': {}},\n",
       " (8,\n",
       "  0,\n",
       "  0): {'config': {'learning_rate': 0.14,\n",
       "   'n_leaves': 35,\n",
       "   'n_trees': 1550}, 'config_info': {}},\n",
       " (9, 0, 0): {'config': {'learning_rate': 0.11, 'n_leaves': 95, 'n_trees': 850},\n",
       "  'config_info': {}},\n",
       " (10,\n",
       "  0,\n",
       "  0): {'config': {'learning_rate': 0.33,\n",
       "   'n_leaves': 95,\n",
       "   'n_trees': 1300}, 'config_info': {}},\n",
       " (11,\n",
       "  0,\n",
       "  0): {'config': {'learning_rate': 0.07,\n",
       "   'n_leaves': 45,\n",
       "   'n_trees': 1600}, 'config_info': {}},\n",
       " (12,\n",
       "  0,\n",
       "  0): {'config': {'learning_rate': 0.08,\n",
       "   'n_leaves': 65,\n",
       "   'n_trees': 450}, 'config_info': {}},\n",
       " (13,\n",
       "  0,\n",
       "  0): {'config': {'learning_rate': 0.48,\n",
       "   'n_leaves': 10,\n",
       "   'n_trees': 1050}, 'config_info': {}},\n",
       " (14,\n",
       "  0,\n",
       "  0): {'config': {'learning_rate': 0.15,\n",
       "   'n_leaves': 40,\n",
       "   'n_trees': 1450}, 'config_info': {}},\n",
       " (15,\n",
       "  0,\n",
       "  0): {'config': {'learning_rate': 0.22,\n",
       "   'n_leaves': 0,\n",
       "   'n_trees': 1150}, 'config_info': {}},\n",
       " (16, 0, 0): {'config': {'learning_rate': 0.19, 'n_leaves': 5, 'n_trees': 100},\n",
       "  'config_info': {}},\n",
       " (17,\n",
       "  0,\n",
       "  0): {'config': {'learning_rate': 0.24,\n",
       "   'n_leaves': 95,\n",
       "   'n_trees': 750}, 'config_info': {}},\n",
       " (18, 0, 0): {'config': {'learning_rate': 0.4, 'n_leaves': 5, 'n_trees': 1800},\n",
       "  'config_info': {}},\n",
       " (19,\n",
       "  0,\n",
       "  0): {'config': {'learning_rate': 0.29,\n",
       "   'n_leaves': 85,\n",
       "   'n_trees': 450}, 'config_info': {}}}"
      ]
     },
     "execution_count": 19,
     "metadata": {},
     "output_type": "execute_result"
    }
   ],
   "source": [
    "res.get_id2config_mapping()"
   ]
  },
  {
   "cell_type": "code",
   "execution_count": null,
   "metadata": {},
   "outputs": [],
   "source": []
  }
 ],
 "metadata": {
  "kernelspec": {
   "display_name": "Python 3",
   "language": "python",
   "name": "python3"
  },
  "language_info": {
   "codemirror_mode": {
    "name": "ipython",
    "version": 3
   },
   "file_extension": ".py",
   "mimetype": "text/x-python",
   "name": "python",
   "nbconvert_exporter": "python",
   "pygments_lexer": "ipython3",
   "version": "3.7.3"
  }
 },
 "nbformat": 4,
 "nbformat_minor": 2
}
