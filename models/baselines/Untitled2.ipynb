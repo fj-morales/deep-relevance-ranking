{
 "cells": [
  {
   "cell_type": "code",
   "execution_count": 1,
   "metadata": {},
   "outputs": [],
   "source": [
    "import pickle"
   ]
  },
  {
   "cell_type": "code",
   "execution_count": 2,
   "metadata": {},
   "outputs": [],
   "source": [
    "dataset = 'bioasq'\n",
    "workdir = './' + dataset + '_dir/'"
   ]
  },
  {
   "cell_type": "code",
   "execution_count": 11,
   "metadata": {},
   "outputs": [],
   "source": [
    "res_file = './bioasq_dir/bioasq_hpo_results_rs.pickle'\n",
    "\n",
    "results = pickle.load(open(res_file, \"rb\"))"
   ]
  },
  {
   "cell_type": "code",
   "execution_count": 12,
   "metadata": {},
   "outputs": [
    {
     "data": {
      "text/plain": [
       "{'hpo_config': Namespace(dataset='bioasq', hpo_method='rs', max_budget=100, min_budget=100, n_iterations=500, n_workers=1),\n",
       " 'hpo_results': <hpbandster.core.result.Result at 0x7f9388bca208>}"
      ]
     },
     "execution_count": 12,
     "metadata": {},
     "output_type": "execute_result"
    }
   ],
   "source": [
    "results"
   ]
  },
  {
   "cell_type": "code",
   "execution_count": 13,
   "metadata": {},
   "outputs": [],
   "source": [
    "hpo_res = results['hpo_results']"
   ]
  },
  {
   "cell_type": "code",
   "execution_count": 15,
   "metadata": {},
   "outputs": [
    {
     "data": {
      "text/plain": [
       "{'config_ids': [(0, 0, 0),\n",
       "  (1, 0, 0),\n",
       "  (6, 0, 0),\n",
       "  (36, 0, 0),\n",
       "  (133, 0, 0),\n",
       "  (133, 0, 0)],\n",
       " 'times_finished': [180.4720687866211,\n",
       "  289.45411944389343,\n",
       "  781.0371649265289,\n",
       "  2846.480555295944,\n",
       "  9810.464056491852,\n",
       "  29482.09075474739],\n",
       " 'budgets': [100, 100, 100, 100, 100, 100],\n",
       " 'losses': [0.42779999999999996,\n",
       "  0.42390000000000005,\n",
       "  0.4134,\n",
       "  0.4075,\n",
       "  0.21230000000000004,\n",
       "  0.21230000000000004]}"
      ]
     },
     "execution_count": 15,
     "metadata": {},
     "output_type": "execute_result"
    }
   ],
   "source": [
    "hpo_res.get_incumbent_trajectory()"
   ]
  }
 ],
 "metadata": {
  "kernelspec": {
   "display_name": "Python 3",
   "language": "python",
   "name": "python3"
  },
  "language_info": {
   "codemirror_mode": {
    "name": "ipython",
    "version": 3
   },
   "file_extension": ".py",
   "mimetype": "text/x-python",
   "name": "python",
   "nbconvert_exporter": "python",
   "pygments_lexer": "ipython3",
   "version": "3.7.3"
  }
 },
 "nbformat": 4,
 "nbformat_minor": 2
}
