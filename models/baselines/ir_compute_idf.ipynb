{
 "cells": [
  {
   "cell_type": "code",
   "execution_count": 1,
   "metadata": {},
   "outputs": [],
   "source": [
    "# Compute IDF term values based on indri index"
   ]
  },
  {
   "cell_type": "code",
   "execution_count": 2,
   "metadata": {},
   "outputs": [],
   "source": [
    "import subprocess\n",
    "import numpy as np\n",
    "import pickle"
   ]
  },
  {
   "cell_type": "code",
   "execution_count": 3,
   "metadata": {},
   "outputs": [],
   "source": [
    "def idf(total_docs, doc_frequency):\n",
    "        idf_term = np.log10(int(total_docs)/int(doc_frequency))\n",
    "        return idf_term"
   ]
  },
  {
   "cell_type": "code",
   "execution_count": 4,
   "metadata": {},
   "outputs": [],
   "source": [
    "#\n",
    "ir_toolkit_location = '../../../indri-l2r/'\n",
    "# idf_file = './bioasq_idf.txt'\n",
    "# index_loc = './bioasq_dir/bioasq_indri_index/'\n",
    "# alternative_bioasq_idf_pickle = '../../bioasq_data/IDF_2.pkl'\n",
    "\n",
    "idf_file = './rob04_idf.txt'\n",
    "index_loc = './robust_dir/robust_indri_index/'\n",
    "alternative_bioasq_idf_pickle = '../../robust04_data/IDF_2.pkl'"
   ]
  },
  {
   "cell_type": "code",
   "execution_count": 5,
   "metadata": {},
   "outputs": [],
   "source": [
    "class IDF_extractor:\n",
    "    def __init__(self, ir_toolkit_location, index_loc):\n",
    "        self.ir_toolkit_location = ir_toolkit_location\n",
    "        self.index_loc = index_loc\n",
    "        self.vocab = []\n",
    "        self.idf_vocab = {}\n",
    "        self.total_docs = None\n",
    "#     def build(self, ir_tool_params):\n",
    "    def run(self):\n",
    "        \n",
    "#         utils.create_dir(self.index_location)\n",
    "    #     index_loc_param = '--indexPath=' + index_loc\n",
    "\n",
    "        dumpindex_command = self.ir_toolkit_location + 'dumpindex/dumpindex'\n",
    "        toolkit_parameters = [\n",
    "                                dumpindex_command,\n",
    "                                self.index_loc,\n",
    "                                'vocabulary'\n",
    "                                ]\n",
    "\n",
    "        print(toolkit_parameters)\n",
    "\n",
    "        proc = subprocess.Popen(toolkit_parameters,\n",
    "                stdout=subprocess.PIPE, shell=False)\n",
    "        (out, err) = proc.communicate()\n",
    "#         print(out.decode(\"utf-8\"))\n",
    "        print('Index error: ', err)\n",
    "        if err is None:\n",
    "            print('ok')  \n",
    "            self.vocab = out.decode(\"utf-8\").splitlines()\n",
    "            self.total_docs = self.vocab[0].split(' ')[2]\n",
    "            \n",
    "            for term_info in self.vocab[1:]:\n",
    "                term_parts = term_info.split(' ')\n",
    "                self.idf_vocab[term_parts[0]] = idf(self.total_docs, term_parts[2])\n",
    "            \n",
    "            \n",
    "            return self.idf_vocab"
   ]
  },
  {
   "cell_type": "code",
   "execution_count": 6,
   "metadata": {},
   "outputs": [
    {
     "name": "stdout",
     "output_type": "stream",
     "text": [
      "['../../../indri-l2r/dumpindex/dumpindex', './robust_dir/robust_indri_index/', 'vocabulary']\n",
      "Index error:  None\n",
      "ok\n"
     ]
    }
   ],
   "source": [
    "bioasq_idf_extractor = IDF_extractor(ir_toolkit_location, index_loc)\n",
    "idf = bioasq_idf_extractor.run()"
   ]
  },
  {
   "cell_type": "code",
   "execution_count": 7,
   "metadata": {},
   "outputs": [
    {
     "data": {
      "text/plain": [
       "1.8394975359905381"
      ]
     },
     "execution_count": 7,
     "metadata": {},
     "output_type": "execute_result"
    }
   ],
   "source": [
    "idf['patient']"
   ]
  },
  {
   "cell_type": "code",
   "execution_count": 8,
   "metadata": {},
   "outputs": [
    {
     "data": {
      "text/plain": [
       "752207"
      ]
     },
     "execution_count": 8,
     "metadata": {},
     "output_type": "execute_result"
    }
   ],
   "source": [
    "len(idf)"
   ]
  },
  {
   "cell_type": "code",
   "execution_count": 9,
   "metadata": {},
   "outputs": [],
   "source": [
    "pickle.dump( idf, open( alternative_bioasq_idf_pickle, \"wb\" ) )"
   ]
  }
 ],
 "metadata": {
  "kernelspec": {
   "display_name": "Python 3",
   "language": "python",
   "name": "python3"
  },
  "language_info": {
   "codemirror_mode": {
    "name": "ipython",
    "version": 3
   },
   "file_extension": ".py",
   "mimetype": "text/x-python",
   "name": "python",
   "nbconvert_exporter": "python",
   "pygments_lexer": "ipython3",
   "version": "3.7.3"
  }
 },
 "nbformat": 4,
 "nbformat_minor": 2
}
