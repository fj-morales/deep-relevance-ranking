{
 "cells": [
  {
   "cell_type": "code",
   "execution_count": 1,
   "metadata": {},
   "outputs": [],
   "source": [
    "%matplotlib inline\n",
    "# %matplotlib notebook # Does not work \n",
    "import pickle \n",
    "import numpy as np\n",
    "from matplotlib import pyplot as plt\n",
    "import json\n",
    "from hpbandster.core.result import logged_results_to_HBS_result\n",
    "from matplotlib.backends.backend_pdf import PdfPages\n",
    "from datetime import datetime"
   ]
  },
  {
   "cell_type": "code",
   "execution_count": 2,
   "metadata": {},
   "outputs": [],
   "source": [
    "def open_hpo_results_files(file):\n",
    "    with open(file, 'rt') as f_in:\n",
    "        raw = []\n",
    "        for line in f_in:\n",
    "            raw.append(json.loads(line))\n",
    "        return raw"
   ]
  },
  {
   "cell_type": "code",
   "execution_count": 3,
   "metadata": {},
   "outputs": [],
   "source": [
    "def load_hpo_results(results_dir):\n",
    "    results_file = results_dir + 'results.json'\n",
    "    config_file = results_dir + 'configs.json'\n",
    "    return {\n",
    "        'results_lines': open_hpo_results_files(results_file),\n",
    "        'config_lines': open_hpo_results_files(config_file)        \n",
    "        }"
   ]
  },
  {
   "cell_type": "code",
   "execution_count": 4,
   "metadata": {},
   "outputs": [],
   "source": [
    "def load_results(file):\n",
    "    with open(file, 'rt') as f_in:\n",
    "        results = []\n",
    "        for line in f_in:\n",
    "#             line = line.strip('\\n')\n",
    "            results.append(json.loads(line))\n",
    "        \n",
    "        return {'loss_data': [x[3]['loss'] for x in results if x[1] == 100], # Get only runs on 100% of data\n",
    "#         return {'loss_data': [x[3]['loss'] for x in results], # Get only runs on 100% of data\n",
    "                'dataset': file.split('/')[1].split('_')[0],\n",
    "                'hpo_method': file.split('/')[2].split('_')[2],\n",
    "                'times': [x[2] for x in results]\n",
    "               }\n",
    "#         return results"
   ]
  },
  {
   "cell_type": "code",
   "execution_count": 5,
   "metadata": {},
   "outputs": [],
   "source": [
    "def plot_results(*plots, default=0, n=0, time_flag=False):\n",
    "        \n",
    "    plt.figure()\n",
    "    plt.clf()\n",
    "\n",
    "    plt.title('RS vs BOHB HPO methods on ' + plots[0]['dataset'].upper() + ' validation set' )\n",
    "    \n",
    "    plt.axhline(y=default, color='r', linestyle='-', label = 'Default hp')\n",
    "    \n",
    "    for plot_data in plots:\n",
    "    \n",
    "        pp = PdfPages(plot_data['dataset'] + '_hpo_curve.pdf')\n",
    "        pp.savefig()\n",
    "#         y_results = [1 - min(plot_data['loss_data'][0:i+1]) for i,x in enumerate(plot_data['loss_data'])]\n",
    "        y_results = [1 - min(plot_data['loss_data'][0:i+1]) for i,x in enumerate(plot_data['loss_data'])]\n",
    "    \n",
    "        if time_flag:\n",
    "            time_diff = plot_data['times'][-1]['finished'] - plot_data['times'][0]['submitted']\n",
    "            idx = list(np.linspace(0, time_diff, num=len(y_results)))\n",
    "        \n",
    "            idx = [x/3600 for x in idx]\n",
    "            plt.xlabel('wallclock-time [hr]', fontsize = 13)\n",
    "        else:\n",
    "            idx = list(range(0,len(y_results)))\n",
    "            plt.xlabel('# iterations', fontsize = 13)\n",
    "        \n",
    "        if plot_data['dataset'] == 'tvqa':            \n",
    "            plt.ylabel('Loss/Accuracy', fontsize = 13)\n",
    "        else:\n",
    "            plt.ylabel('Loss/MAP', fontsize = 13)\n",
    "        plt.plot(idx[n:], y_results[n:], label = plot_data['hpo_method'].upper())\n",
    "        \n",
    "#     plt.plot([x/hour for x in incumbent_bohb['times_finished']], incumbent_bohb['losses'])\n",
    "    pp.savefig()\n",
    "    plt.legend()\n",
    "    plt.show()\n",
    "    pp.close()"
   ]
  },
  {
   "cell_type": "code",
   "execution_count": 6,
   "metadata": {},
   "outputs": [],
   "source": [
    "def get_best_config(*results_dirs):\n",
    "    \n",
    "    for results_dir in results_dirs:\n",
    "        results = logged_results_to_HBS_result(results_dir)\n",
    "        print( {'dir': results_dir,\n",
    "                'config': results.get_id2config_mapping()[results.get_incumbent_id()]['config'],\n",
    "                'mean_metric': results.get_runs_by_id(results.get_incumbent_id())[-1].info['mean_metric']\n",
    "               }, '\\n' )"
   ]
  },
  {
   "cell_type": "code",
   "execution_count": 7,
   "metadata": {},
   "outputs": [],
   "source": [
    "bio_bohb_file = './bioasq_dir/hpo_results_bohb/results.json'\n",
    "bio_rs_file = './bioasq_dir/hpo_results_rs_1573577855//results.json'\n",
    "rob_bohb_file = './robust_dir/hpo_results_bohb/results.json'\n",
    "rob_rs_file = './robust_dir/hpo_results_rs/results.json'"
   ]
  },
  {
   "cell_type": "code",
   "execution_count": 8,
   "metadata": {},
   "outputs": [],
   "source": [
    "bio_bohb_results = load_results(bio_bohb_file)\n",
    "bio_rs_results = load_results(bio_rs_file)\n",
    "rob_bohb_results = load_results(rob_bohb_file)\n",
    "rob_rs_results = load_results(rob_rs_file)"
   ]
  },
  {
   "cell_type": "code",
   "execution_count": 9,
   "metadata": {},
   "outputs": [
    {
     "data": {
      "text/plain": [
       "dict_keys(['loss_data', 'dataset', 'hpo_method', 'times'])"
      ]
     },
     "execution_count": 9,
     "metadata": {},
     "output_type": "execute_result"
    }
   ],
   "source": [
    "bio_bohb_results.keys()"
   ]
  },
  {
   "cell_type": "code",
   "execution_count": 16,
   "metadata": {},
   "outputs": [
    {
     "data": {
      "image/png": "[encoded data removed]",
      "text/plain": [
       "<Figure size 432x288 with 1 Axes>"
      ]
     },
     "metadata": {
      "needs_background": "light"
     },
     "output_type": "display_data"
    }
   ],
   "source": [
    "plot_results(bio_bohb_results,bio_rs_results, default=0.4371, n=10, time_flag=True)"
   ]
  },
  {
   "cell_type": "code",
   "execution_count": 11,
   "metadata": {},
   "outputs": [
    {
     "data": {
      "image/png": "[encoded data removed]",
      "text/plain": [
       "<Figure size 432x288 with 1 Axes>"
      ]
     },
     "metadata": {
      "needs_background": "light"
     },
     "output_type": "display_data"
    }
   ],
   "source": [
    "plot_results(rob_bohb_results,rob_rs_results, default=0.2292, n=0, time_flag=True)"
   ]
  },
  {
   "cell_type": "code",
   "execution_count": 12,
   "metadata": {},
   "outputs": [],
   "source": [
    "now = datetime.now()\n",
    "timestamp = datetime.timestamp(now)\n",
    "\n",
    "bio_bohb_dir = './bioasq_dir/hpo_results_bohb/'\n",
    "bio_rs_dir = './bioasq_dir/hpo_results_rs_1573577855/'\n",
    "rob_bohb_dir = './robust_dir/hpo_results_bohb/'\n",
    "rob_rs_dir = './robust_dir/hpo_results_rs/'\n",
    "\n",
    "analyzed_results = {'bio_bohb': load_hpo_results(bio_bohb_dir),\n",
    "                    'bio_rs': load_hpo_results(bio_rs_dir),\n",
    "                    'rob_bohb': load_hpo_results(rob_bohb_dir),\n",
    "                    'rob_rs': load_hpo_results(rob_rs_dir)\n",
    "                    }\n",
    "\n",
    "analyzed_results_file = './deep_relevance_hpo_results_' + str(timestamp) + '.pkl'\n",
    "\n",
    "pickle.dump( analyzed_results, open(analyzed_results_file, 'wb'))"
   ]
  },
  {
   "cell_type": "code",
   "execution_count": 13,
   "metadata": {},
   "outputs": [],
   "source": [
    "# loaded_results = pickle.load( open( analyzed_results_file, \"rb\" ))\n",
    "# for k in loaded_results.keys():\n",
    "#     print(loaded_results[k]['results_lines'][0], '\\n')"
   ]
  },
  {
   "cell_type": "code",
   "execution_count": 14,
   "metadata": {},
   "outputs": [
    {
     "name": "stdout",
     "output_type": "stream",
     "text": [
      "{'learning_rate': 0.08, 'n_leaves': 75, 'n_trees': 550}\n"
     ]
    },
    {
     "data": {
      "text/plain": [
       "[config_id: (41, 0, 0)\tbudget: 100.000000\tloss: 0.5510999999999999\n",
       " time_stamps: 6575.058764219284 (submitted), 6575.058878898621 (started), 6739.123224973679 (finished)\n",
       " info: {'s': {'metric': 0.4489, 'info': {'map': '0.4489', 'P_20': '0.2480', 'ndcg_cut_20': '0.5478', 'model_file': './bioasq_dir/bioasq_lmart_id125_budget100_leaves75_lr0.08_n550'}}, 'mean_metric': 0.4489, 'std_metric': 0.0}]"
      ]
     },
     "execution_count": 14,
     "metadata": {},
     "output_type": "execute_result"
    }
   ],
   "source": [
    "results = logged_results_to_HBS_result(bio_bohb_dir)\n",
    "print(results.get_id2config_mapping()[results.get_incumbent_id()]['config'],)\n",
    "results.get_runs_by_id(results.get_incumbent_id())"
   ]
  },
  {
   "cell_type": "code",
   "execution_count": 15,
   "metadata": {},
   "outputs": [
    {
     "name": "stdout",
     "output_type": "stream",
     "text": [
      "{'dir': './bioasq_dir/hpo_results_bohb/', 'config': {'learning_rate': 0.08, 'n_leaves': 75, 'n_trees': 550}, 'mean_metric': 0.4489} \n",
      "\n",
      "{'dir': './bioasq_dir/hpo_results_rs_1573577855/', 'config': {'learning_rate': 0.04, 'n_leaves': 75, 'n_trees': 1000}, 'mean_metric': 0.4491} \n",
      "\n",
      "{'dir': './robust_dir/hpo_results_bohb/', 'config': {'learning_rate': 0.03, 'n_leaves': 25, 'n_trees': 1700}, 'mean_metric': 0.2465} \n",
      "\n",
      "{'dir': './robust_dir/hpo_results_rs/', 'config': {'learning_rate': 0.03, 'n_leaves': 25, 'n_trees': 400}, 'mean_metric': 0.2465} \n",
      "\n"
     ]
    }
   ],
   "source": [
    "get_best_config(bio_bohb_dir, bio_rs_dir, rob_bohb_dir, rob_rs_dir)"
   ]
  }
 ],
 "metadata": {
  "kernelspec": {
   "display_name": "Python 3",
   "language": "python",
   "name": "python3"
  },
  "language_info": {
   "codemirror_mode": {
    "name": "ipython",
    "version": 3
   },
   "file_extension": ".py",
   "mimetype": "text/x-python",
   "name": "python",
   "nbconvert_exporter": "python",
   "pygments_lexer": "ipython3",
   "version": "3.7.3"
  }
 },
 "nbformat": 4,
 "nbformat_minor": 2
}
