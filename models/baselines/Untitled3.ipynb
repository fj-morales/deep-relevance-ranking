{
 "cells": [
  {
   "cell_type": "code",
   "execution_count": 1,
   "metadata": {},
   "outputs": [],
   "source": [
    "from scipy.stats import kendalltau\n",
    "import itertools\n",
    "import numpy as np\n",
    "import pandas as pd\n",
    "import collections\n",
    "import statistics\n",
    "import math\n",
    "\n",
    "# Visualize\n",
    "\n",
    "# import seaborn"
   ]
  },
  {
   "cell_type": "code",
   "execution_count": 2,
   "metadata": {},
   "outputs": [],
   "source": [
    "folds = ['s1', 's2', 's3','s4' ,'s5']\n"
   ]
  },
  {
   "cell_type": "code",
   "execution_count": null,
   "metadata": {},
   "outputs": [],
   "source": []
  },
  {
   "cell_type": "code",
   "execution_count": 3,
   "metadata": {},
   "outputs": [],
   "source": [
    "def doit(fold):\n",
    "    rob_s1_bm25_file = './robust_dir/' + fold + '/run_bm25_robust_train_' + fold \n",
    "    rob_s1_okapi_file = './tests/run_robust_' + fold + '_train_feat5'\n",
    "    with open(rob_s1_bm25_file, 'rt') as f_in:\n",
    "        bm25 = []\n",
    "        for i in f_in:\n",
    "            i = i.strip('\\n')\n",
    "            bm25.append(i.split())\n",
    "\n",
    "    with open(rob_s1_okapi_file, 'rt') as f_in:\n",
    "        okapi = []\n",
    "        for i in f_in:\n",
    "            i = i.strip('\\n')\n",
    "            okapi.append(i.split())\n",
    "\n",
    "    bm25[0]\n",
    "    okapi[0]\n",
    "\n",
    "    bm25_sorted = sorted(bm25, key = lambda x: (x[0], x[2]))\n",
    "    okapi_sorted = sorted(okapi, key = lambda x: (x[0], x[2]))\n",
    "\n",
    "    bm25_sorted[0]\n",
    "    # okapi_sorted[0]\n",
    "\n",
    "    qids = set([x[0] for x in bm25])\n",
    "\n",
    "    kendalls = []\n",
    "    for i in qids:\n",
    "    #     try:\n",
    "        this = [[i, int(x[3]), int(y[3])] for (x,y) in zip(bm25_sorted,  okapi_sorted) if x[0] == i]\n",
    "    #     print(this)\n",
    "        kendalls.append([i, kendalltau([x[1] for x in this], [x[2] for x in this])[0]])\n",
    "    #     break\n",
    "\n",
    "    return [x for x in kendalls if x[1] < 1]"
   ]
  },
  {
   "cell_type": "code",
   "execution_count": 4,
   "metadata": {},
   "outputs": [],
   "source": [
    "# for fold in folds:\n",
    "#     print(str(doit(fold)) + '\\n')"
   ]
  },
  {
   "cell_type": "code",
   "execution_count": 11,
   "metadata": {},
   "outputs": [],
   "source": [
    "fold = 's1'\n",
    "\n",
    "# rob_s1_bm25_file = './robust_dir/' + fold + '/run_bm25_robust_train_' + fold \n",
    "# rob_s1_okapi_file = './tests/run_robust_' + fold + '_train_feat5'\n",
    "\n",
    "rob_s1_bm25_file = './tests/run_bm25' \n",
    "rob_s1_okapi_file = './tests/run_rerank'\n",
    "\n",
    "with open(rob_s1_bm25_file, 'rt') as f_in:\n",
    "    bm25 = []\n",
    "    for i in f_in:\n",
    "        i = i.strip('\\n')\n",
    "        bm25.append(i.split())\n",
    "\n",
    "with open(rob_s1_okapi_file, 'rt') as f_in:\n",
    "    okapi = []\n",
    "    for i in f_in:\n",
    "        i = i.strip('\\n')\n",
    "        okapi.append(i.split())\n",
    "\n",
    "bm25[0]\n",
    "okapi[0]\n",
    "\n",
    "bm25_sorted = sorted(bm25, key = lambda x: (x[0], x[2]))\n",
    "okapi_sorted = sorted(okapi, key = lambda x: (x[0], x[2]))\n",
    "\n",
    "bm25_sorted[0]\n",
    "# okapi_sorted[0]\n",
    "\n",
    "qids = set([x[0] for x in bm25])\n",
    "\n",
    "kendalls = []\n",
    "for i in qids:\n",
    "#     try:\n",
    "    this = [[i, int(x[3]), int(y[3])] for (x,y) in zip(bm25_sorted,  okapi_sorted) if x[0] == i]\n",
    "#     print(this)\n",
    "    kendalls.append([i, kendalltau([x[1] for x in this], [x[2] for x in this])[0]])\n",
    "#     break\n"
   ]
  },
  {
   "cell_type": "code",
   "execution_count": 12,
   "metadata": {},
   "outputs": [
    {
     "data": {
      "text/plain": [
       "[['366', 1.0]]"
      ]
     },
     "execution_count": 12,
     "metadata": {},
     "output_type": "execute_result"
    }
   ],
   "source": [
    "kendalls"
   ]
  },
  {
   "cell_type": "code",
   "execution_count": 7,
   "metadata": {},
   "outputs": [],
   "source": [
    "# l2 = [[x[0], x[2], int(x[3]), x[4], int(y[3]), y[4]] for (x,y) in zip(bm25_sorted, okapi_sorted) if x[0] == '301' ]"
   ]
  },
  {
   "cell_type": "code",
   "execution_count": 8,
   "metadata": {},
   "outputs": [],
   "source": [
    "# l2[0]"
   ]
  },
  {
   "cell_type": "code",
   "execution_count": 9,
   "metadata": {},
   "outputs": [],
   "source": [
    "# l2_sorted = sorted(l2, key = lambda x: (x[2]))"
   ]
  },
  {
   "cell_type": "code",
   "execution_count": 10,
   "metadata": {},
   "outputs": [],
   "source": [
    "# [x for x in l2_sorted if x[3] == x[5]]"
   ]
  }
 ],
 "metadata": {
  "kernelspec": {
   "display_name": "Python 3",
   "language": "python",
   "name": "python3"
  },
  "language_info": {
   "codemirror_mode": {
    "name": "ipython",
    "version": 3
   },
   "file_extension": ".py",
   "mimetype": "text/x-python",
   "name": "python",
   "nbconvert_exporter": "python",
   "pygments_lexer": "ipython3",
   "version": "3.7.3"
  }
 },
 "nbformat": 4,
 "nbformat_minor": 2
}
