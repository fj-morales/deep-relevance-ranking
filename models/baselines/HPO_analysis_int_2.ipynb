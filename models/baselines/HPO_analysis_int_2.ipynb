{
 "cells": [
  {
   "cell_type": "code",
   "execution_count": 1,
   "metadata": {},
   "outputs": [],
   "source": [
    "%matplotlib inline\n",
    "# %matplotlib notebook # Does not work \n",
    "import pickle\n",
    "import numpy as np\n",
    "from matplotlib import pyplot as plt"
   ]
  },
  {
   "cell_type": "code",
   "execution_count": 2,
   "metadata": {},
   "outputs": [],
   "source": [
    "def plot_best_n_evals(runs, window):\n",
    "\n",
    "    loss_data = []\n",
    "    n_data = []\n",
    "    t_data = []\n",
    "    n = 0\n",
    "    while( n < len(runs) ):\n",
    "#         print(runs[0:n])\n",
    "#         print(runs[:n-1])\n",
    "        n += window\n",
    "        best_config_at_n = min(runs[0:n], key=lambda x: x.loss)\n",
    "      \n",
    "        loss_data.append(best_config_at_n.loss) \n",
    "        if n > len(runs):\n",
    "            n_data.append(len(runs))\n",
    "        else:\n",
    "            n_data.append(n)\n",
    "            \n",
    "#         t_data.append(best_config_at_n.time_stamps['submitted'])\n",
    "        t_data.append(best_config_at_n.time_stamps['finished'])\n",
    "        \n",
    "    return { \n",
    "            'loss_data': loss_data,\n",
    "            'n_data': n_data,\n",
    "            't_data': t_data\n",
    "            }"
   ]
  },
  {
   "cell_type": "code",
   "execution_count": 3,
   "metadata": {},
   "outputs": [],
   "source": [
    "def get_runs(file):\n",
    "    results = pickle.load(open(file, \"rb\"))\n",
    "    return results['hpo_results']"
   ]
  },
  {
   "cell_type": "code",
   "execution_count": 4,
   "metadata": {},
   "outputs": [],
   "source": [
    "dataset = 'bioasq'\n",
    "workdir = './' + dataset + '_dir/'\n",
    "\n",
    "# res_file = './pruebas/bioasq_hpo_results_bohb.pickle'\n",
    "bohb_file = './bioasq_dir/bioasq_hpo_results_bohb.pickle'\n",
    "rs_file = './bioasq_dir/bioasq_hpo_results_rs.pickle'\n",
    "\n",
    "\n",
    "bohb_results = get_runs(bohb_file)\n",
    "rs_results = get_runs(rs_file)"
   ]
  },
  {
   "cell_type": "code",
   "execution_count": 5,
   "metadata": {},
   "outputs": [
    {
     "data": {
      "text/plain": [
       "250"
      ]
     },
     "execution_count": 5,
     "metadata": {},
     "output_type": "execute_result"
    }
   ],
   "source": [
    "len(bohb_results.get_all_runs(True))"
   ]
  },
  {
   "cell_type": "code",
   "execution_count": 6,
   "metadata": {},
   "outputs": [],
   "source": [
    "all_runs_bohb = bohb_results.get_all_runs(True)\n",
    "all_runs_rs = rs_results.get_all_runs()"
   ]
  },
  {
   "cell_type": "code",
   "execution_count": 11,
   "metadata": {},
   "outputs": [
    {
     "data": {
      "text/plain": [
       "[config_id: (331, 0, 0)\tbudget: 100.000000\tloss: 0.5505\n",
       " time_stamps: 18294.53604412079 (submitted), 18294.536137104034 (started), 18346.50132703781 (finished)\n",
       " info: {'s': {'metric': 0.4495, 'info': {'map': '0.4495', 'P_20': '0.2645', 'ndcg_cut_20': '0.5521'}}, 'mean_metric': 0.4495, 'std_metric': 0.0}]"
      ]
     },
     "execution_count": 11,
     "metadata": {},
     "output_type": "execute_result"
    }
   ],
   "source": [
    "rs_results.get_runs_by_id(rs_results.get_incumbent_id())"
   ]
  },
  {
   "cell_type": "code",
   "execution_count": 10,
   "metadata": {},
   "outputs": [
    {
     "data": {
      "text/plain": [
       "[config_id: (36, 0, 0)\tbudget: 33.333333\tloss: 0.5636\n",
       " time_stamps: 4234.0231947898865 (submitted), 4234.02326464653 (started), 4261.124184131622 (finished)\n",
       " info: {'s': {'metric': 0.4364, 'info': {'map': '0.4364', 'P_20': '0.2605', 'ndcg_cut_20': '0.5389'}}, 'mean_metric': 0.4364, 'std_metric': 0.0},\n",
       " config_id: (36, 0, 0)\tbudget: 100.000000\tloss: 0.5534\n",
       " time_stamps: 4312.261118173599 (submitted), 4312.261226177216 (started), 4373.469438791275 (finished)\n",
       " info: {'s': {'metric': 0.4466, 'info': {'map': '0.4466', 'P_20': '0.2650', 'ndcg_cut_20': '0.5512'}}, 'mean_metric': 0.4466, 'std_metric': 0.0}]"
      ]
     },
     "execution_count": 10,
     "metadata": {},
     "output_type": "execute_result"
    }
   ],
   "source": [
    "bohb_results.get_runs_by_id(bohb_results.get_incumbent_id())"
   ]
  },
  {
   "cell_type": "code",
   "execution_count": 27,
   "metadata": {},
   "outputs": [],
   "source": [
    "plot_data_bohb = plot_best_n_evals(all_runs_bohb, 1)\n",
    "plot_data_rs = plot_best_n_evals(all_runs_rs, 1)\n",
    "\n",
    "    #Plotting to our canvas"
   ]
  },
  {
   "cell_type": "code",
   "execution_count": 31,
   "metadata": {},
   "outputs": [
    {
     "data": {
      "image/png": "[encoded data removed]",
      "text/plain": [
       "<Figure size 432x288 with 1 Axes>"
      ]
     },
     "metadata": {
      "needs_background": "light"
     },
     "output_type": "display_data"
    }
   ],
   "source": [
    "hour = 1\n",
    "\n",
    "incumbent_rs = rs_results.get_incumbent_trajectory()\n",
    "incumbent_bohb = bohb_results.get_incumbent_trajectory()\n",
    "plt.plot([x/hour for x in incumbent_rs['times_finished']], incumbent_rs['losses'])\n",
    "plt.plot([x/hour for x in incumbent_bohb['times_finished']], incumbent_bohb['losses'])\n",
    "plt.show()"
   ]
  },
  {
   "cell_type": "code",
   "execution_count": 33,
   "metadata": {},
   "outputs": [
    {
     "data": {
      "image/png": "[encoded data removed]",
      "text/plain": [
       "<Figure size 432x288 with 1 Axes>"
      ]
     },
     "metadata": {
      "needs_background": "light"
     },
     "output_type": "display_data"
    }
   ],
   "source": [
    "#Showing what we plotted\n",
    "\n",
    "plt.plot([x/hour for x in plot_data_bohb['t_data']], plot_data_bohb['loss_data'])\n",
    "# plt.plot([x/hour for x in plot_data_rs['t_data']], plot_data_rs['loss_data'])\n",
    "plt.show()"
   ]
  }
 ],
 "metadata": {
  "kernelspec": {
   "display_name": "Python 3",
   "language": "python",
   "name": "python3"
  },
  "language_info": {
   "codemirror_mode": {
    "name": "ipython",
    "version": 3
   },
   "file_extension": ".py",
   "mimetype": "text/x-python",
   "name": "python",
   "nbconvert_exporter": "python",
   "pygments_lexer": "ipython3",
   "version": "3.7.3"
  }
 },
 "nbformat": 4,
 "nbformat_minor": 2
}
