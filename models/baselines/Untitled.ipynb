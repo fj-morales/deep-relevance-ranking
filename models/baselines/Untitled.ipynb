{
 "cells": [
  {
   "cell_type": "code",
   "execution_count": 1,
   "metadata": {},
   "outputs": [],
   "source": [
    "# Imports\n",
    "import pickle\n"
   ]
  },
  {
   "cell_type": "code",
   "execution_count": 2,
   "metadata": {},
   "outputs": [],
   "source": [
    "idf_file = '../../robust04_data/IDF.pkl'\n",
    "\n",
    "\n",
    "with open(idf_file, 'rb') as i_f:\n",
    "    idf = pickle.load(i_f)"
   ]
  },
  {
   "cell_type": "code",
   "execution_count": 3,
   "metadata": {},
   "outputs": [
    {
     "name": "stdout",
     "output_type": "stream",
     "text": [
      "tall-tale 12.48399789965403\n",
      "monologuist 11.231234931158662\n",
      "parametrically 12.078532791545866\n",
      "cleannot 12.48399789965403\n",
      "xiangyanghong-10 12.48399789965403\n",
      "catanaza 12.48399789965403\n",
      "trikov 12.078532791545866\n",
      "aspersa 12.078532791545866\n",
      "hizballah 7.045918590730834\n",
      "dulcimer-players 12.48399789965403\n"
     ]
    }
   ],
   "source": [
    "i = 0\n",
    "for key, value in idf.items():\n",
    "    i += 1\n",
    "    if i > 10:\n",
    "        break\n",
    "    print(key, value)"
   ]
  },
  {
   "cell_type": "code",
   "execution_count": null,
   "metadata": {},
   "outputs": [],
   "source": []
  }
 ],
 "metadata": {
  "kernelspec": {
   "display_name": "Python 3",
   "language": "python",
   "name": "python3"
  },
  "language_info": {
   "codemirror_mode": {
    "name": "ipython",
    "version": 3
   },
   "file_extension": ".py",
   "mimetype": "text/x-python",
   "name": "python",
   "nbconvert_exporter": "python",
   "pygments_lexer": "ipython3",
   "version": "3.7.3"
  }
 },
 "nbformat": 4,
 "nbformat_minor": 2
}
