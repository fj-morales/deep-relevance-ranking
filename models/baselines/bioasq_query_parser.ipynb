{
 "cells": [
  {
   "cell_type": "code",
   "execution_count": 31,
   "metadata": {},
   "outputs": [],
   "source": [
    "import datetime\n",
    "import xml.etree.ElementTree as ET\n",
    "import gzip\n",
    "import os\n",
    "import subprocess\n",
    "import json\n",
    "\n",
    "import multiprocessing\n",
    "import re \n",
    "import sys\n",
    "# sys.path.append('qra_cod')\n",
    "import shutil\n",
    "\n",
    "# my modules\n",
    "import utils"
   ]
  },
  {
   "cell_type": "code",
   "execution_count": 32,
   "metadata": {},
   "outputs": [],
   "source": [
    "def load_queries(queries_file):\n",
    "    with open(queries_file, 'rb') as input_file:\n",
    "        query_data = json.load(input_file)\n",
    "        return query_data['questions']"
   ]
  },
  {
   "cell_type": "code",
   "execution_count": 33,
   "metadata": {},
   "outputs": [],
   "source": [
    "def trec_queries(queries):\n",
    "    \n",
    "    qrels_list = []\n",
    "    q_trec = {}\n",
    "    for q in queries:\n",
    "#         print(q['body'])\n",
    "#         text = q['body']\n",
    "        text = utils.remove_sc(q['body'])\n",
    "#         print(text)\n",
    "    \n",
    "#         text = re.sub(r'[^\\w\\s]',' ',text)\n",
    "##     text = text.lower()\n",
    "##         text = text.rstrip('.?')\n",
    "        q_t = '<query>\\n' + '<number>' + q['id'] + '</number>\\n' + '<text>' + text + '</text>\\n' + '</query>\\n'\n",
    "        q_trec[q['id']] = q_t\n",
    "        \n",
    "        docs = q['documents']\n",
    "        \n",
    "        for doc in docs:\n",
    "            doc = doc.split('/')[-1]# strip url information\n",
    "            qrel_string = q['id'] + ' 0 ' + doc + ' 1\\n'\n",
    "            qrels_list.append(qrel_string)\n",
    "    \n",
    "    return [q_trec, qrels_list]"
   ]
  },
  {
   "cell_type": "code",
   "execution_count": 34,
   "metadata": {},
   "outputs": [],
   "source": [
    "def save_trec_query(trec_queries, trec_query_file):\n",
    "    with open(trec_query_file, 'wt', encoding='utf-8') as q_file:\n",
    "        q_file.write('<parameters>\\n')\n",
    "        for key, value in trec_queries.items():\n",
    "            q_file.write(value)\n",
    "        q_file.write('</parameters>')"
   ]
  },
  {
   "cell_type": "code",
   "execution_count": 35,
   "metadata": {},
   "outputs": [],
   "source": [
    "def save_qrels(qrels, qrels_file):\n",
    "    with open(qrels_file, 'wt', encoding='utf-8') as q_file:\n",
    "        q_file.writelines(qrels)"
   ]
  },
  {
   "cell_type": "code",
   "execution_count": 36,
   "metadata": {},
   "outputs": [],
   "source": [
    "def query_parser(queries_file):\n",
    "    \n",
    "    filename_prefix = 'bioasq_dir/' + queries_file.split('/')[-1].strip('.json')\n",
    "    \n",
    "    trec_query_file = filename_prefix + '_trec_query'\n",
    "    qrels_file = filename_prefix + '_qrels'\n",
    "    \n",
    "    \n",
    "    queries = load_queries(queries_file)\n",
    "    [q_trec, qrels] = trec_queries(queries)\n",
    "    \n",
    "    save_trec_query(q_trec, trec_query_file)\n",
    "    save_qrels(qrels, qrels_file)\n"
   ]
  }
 ],
 "metadata": {
  "kernelspec": {
   "display_name": "Python 3",
   "language": "python",
   "name": "python3"
  },
  "language_info": {
   "codemirror_mode": {
    "name": "ipython",
    "version": 3
   },
   "file_extension": ".py",
   "mimetype": "text/x-python",
   "name": "python",
   "nbconvert_exporter": "python",
   "pygments_lexer": "ipython3",
   "version": "3.7.3"
  }
 },
 "nbformat": 4,
 "nbformat_minor": 2
}
