{
 "cells": [
  {
   "cell_type": "code",
   "execution_count": 1,
   "metadata": {},
   "outputs": [],
   "source": [
    "%matplotlib inline\n",
    "# %matplotlib notebook # Does not work \n",
    "import pickle\n",
    "import numpy as np\n",
    "from matplotlib import pyplot as plt\n",
    "from matplotlib.backends.backend_pdf import PdfPages\n",
    "from hpbandster.core.result import logged_results_to_HBS_result"
   ]
  },
  {
   "cell_type": "code",
   "execution_count": 2,
   "metadata": {},
   "outputs": [],
   "source": [
    "def get_runs(file):\n",
    "    results = pickle.load(open(file, \"rb\"))\n",
    "    return results['hpo_results']"
   ]
  },
  {
   "cell_type": "code",
   "execution_count": 3,
   "metadata": {},
   "outputs": [],
   "source": [
    "dataset = 'bioasq'\n",
    "workdir = './' + dataset + '_dir/'"
   ]
  },
  {
   "cell_type": "code",
   "execution_count": 4,
   "metadata": {},
   "outputs": [],
   "source": [
    "bio_bohb_dir = './bioasq_dir/hpo_results_bohb/'\n",
    "bio_rs_dir = './bioasq_dir/hpo_results_rs/'\n",
    "rob_bohb_dir = './robust_dir/hpo_results_bohb/'\n",
    "rob_rs_dir = './robust_dir/hpo_results_rs/'"
   ]
  },
  {
   "cell_type": "code",
   "execution_count": 5,
   "metadata": {},
   "outputs": [],
   "source": [
    "# bohb_file = './bioasq_dir/bioasq_hpo_results_bohb.pickle'\n",
    "# rs_file = './bioasq_dir/bioasq_hpo_results_rs.pickle'"
   ]
  },
  {
   "cell_type": "code",
   "execution_count": null,
   "metadata": {},
   "outputs": [],
   "source": []
  },
  {
   "cell_type": "code",
   "execution_count": 6,
   "metadata": {},
   "outputs": [],
   "source": [
    "bohb_file = './robust_dir/robust_hpo_results_bohb20190925.pickle'\n",
    "rs_file = './robust_dir/robust_hpo_results_rs20190925.pickle'"
   ]
  },
  {
   "cell_type": "code",
   "execution_count": 7,
   "metadata": {},
   "outputs": [],
   "source": [
    "# # Intermediate results\n",
    "\n",
    "# # bohb_results = logged_results_to_HBS_result(bio_bohb_dir)\n",
    "# # rs_results = logged_results_to_HBS_result(bio_rs_dir)\n",
    "\n",
    "# bohb_results = logged_results_to_HBS_result(rob_bohb_dir)\n",
    "# rs_results = logged_results_to_HBS_result(rob_rs_dir)"
   ]
  },
  {
   "cell_type": "code",
   "execution_count": 8,
   "metadata": {},
   "outputs": [],
   "source": [
    "# Final results\n",
    "\n",
    "bohb_results = get_runs(bohb_file)\n",
    "rs_results = get_runs(rs_file)"
   ]
  },
  {
   "cell_type": "code",
   "execution_count": 9,
   "metadata": {},
   "outputs": [],
   "source": [
    "# \n",
    "\n",
    "all_runs_bohb = bohb_results.get_all_runs()\n",
    "all_runs_rs = rs_results.get_all_runs()"
   ]
  },
  {
   "cell_type": "code",
   "execution_count": 10,
   "metadata": {},
   "outputs": [
    {
     "data": {
      "image/png": "[encoded data removed]",
      "text/plain": [
       "<Figure size 432x288 with 1 Axes>"
      ]
     },
     "metadata": {
      "needs_background": "light"
     },
     "output_type": "display_data"
    }
   ],
   "source": [
    "hour = 3600\n",
    "\n",
    "pp = PdfPages('hpo_test.pdf')\n",
    "plt.figure()\n",
    "plt.clf()\n",
    "\n",
    "plt.title('y vs x')\n",
    "plt.xlabel('x axis', fontsize = 13)\n",
    "plt.ylabel('y axis', fontsize = 13)\n",
    "\n",
    "\n",
    "incumbent_rs = rs_results.get_incumbent_trajectory()\n",
    "incumbent_bohb = bohb_results.get_incumbent_trajectory()\n",
    "plt.plot([x/hour for x in incumbent_rs['times_finished']], incumbent_rs['losses'])\n",
    "plt.plot([x/hour for x in incumbent_bohb['times_finished']], incumbent_bohb['losses'])\n",
    "pp.savefig()\n",
    "plt.show()\n",
    "pp.close()"
   ]
  },
  {
   "cell_type": "code",
   "execution_count": 11,
   "metadata": {},
   "outputs": [
    {
     "data": {
      "text/plain": [
       "0.77162"
      ]
     },
     "execution_count": 11,
     "metadata": {},
     "output_type": "execute_result"
    }
   ],
   "source": [
    "min(rs_results.get_incumbent_trajectory()['losses'])"
   ]
  },
  {
   "cell_type": "code",
   "execution_count": 12,
   "metadata": {},
   "outputs": [
    {
     "data": {
      "text/plain": [
       "{'config_ids': [(0, 0, 0),\n",
       "  (3, 0, 0),\n",
       "  (11, 0, 0),\n",
       "  (26, 0, 0),\n",
       "  (30, 0, 0),\n",
       "  (57, 0, 0),\n",
       "  (373, 0, 0),\n",
       "  (373, 0, 0)],\n",
       " 'times_finished': [288.3888123035431,\n",
       "  1132.4896483421326,\n",
       "  3020.773049354553,\n",
       "  6304.930422544479,\n",
       "  7391.84229183197,\n",
       "  14350.453727960587,\n",
       "  91182.03313446045,\n",
       "  120607.22482919693],\n",
       " 'budgets': [100, 100, 100, 100, 100, 100, 100, 100],\n",
       " 'losses': [0.81546,\n",
       "  0.80882,\n",
       "  0.79892,\n",
       "  0.7973600000000001,\n",
       "  0.7923,\n",
       "  0.77188,\n",
       "  0.77162,\n",
       "  0.77162]}"
      ]
     },
     "execution_count": 12,
     "metadata": {},
     "output_type": "execute_result"
    }
   ],
   "source": [
    "rs_results.get_incumbent_trajectory()"
   ]
  },
  {
   "cell_type": "code",
   "execution_count": 13,
   "metadata": {},
   "outputs": [
    {
     "data": {
      "text/plain": [
       "0.77974"
      ]
     },
     "execution_count": 13,
     "metadata": {},
     "output_type": "execute_result"
    }
   ],
   "source": [
    "min(bohb_results.get_incumbent_trajectory()['losses'])"
   ]
  },
  {
   "cell_type": "code",
   "execution_count": 14,
   "metadata": {},
   "outputs": [
    {
     "data": {
      "text/plain": [
       "{'s1': {'metric': 0.213,\n",
       "  'info': {'map': '0.2130', 'P_20': '0.3082', 'ndcg_cut_20': '0.3788'}},\n",
       " 's2': {'metric': 0.156,\n",
       "  'info': {'map': '0.1560', 'P_20': '0.2460', 'ndcg_cut_20': '0.3295'}},\n",
       " 's3': {'metric': 0.2427,\n",
       "  'info': {'map': '0.2427', 'P_20': '0.3590', 'ndcg_cut_20': '0.4261'}},\n",
       " 's4': {'metric': 0.2593,\n",
       "  'info': {'map': '0.2593', 'P_20': '0.3780', 'ndcg_cut_20': '0.4481'}},\n",
       " 's5': {'metric': 0.2303,\n",
       "  'info': {'map': '0.2303', 'P_20': '0.3420', 'ndcg_cut_20': '0.4111'}},\n",
       " 'mean_metric': 0.22026,\n",
       " 'std_metric': 0.03552614}"
      ]
     },
     "execution_count": 14,
     "metadata": {},
     "output_type": "execute_result"
    }
   ],
   "source": [
    "bohb_results.get_runs_by_id(bohb_results.get_incumbent_id())[0].info"
   ]
  }
 ],
 "metadata": {
  "kernelspec": {
   "display_name": "Python 3",
   "language": "python",
   "name": "python3"
  },
  "language_info": {
   "codemirror_mode": {
    "name": "ipython",
    "version": 3
   },
   "file_extension": ".py",
   "mimetype": "text/x-python",
   "name": "python",
   "nbconvert_exporter": "python",
   "pygments_lexer": "ipython3",
   "version": "3.7.3"
  }
 },
 "nbformat": 4,
 "nbformat_minor": 2
}
