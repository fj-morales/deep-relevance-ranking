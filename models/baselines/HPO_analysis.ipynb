{
 "cells": [
  {
   "cell_type": "code",
   "execution_count": 1,
   "metadata": {},
   "outputs": [],
   "source": [
    "%matplotlib inline\n",
    "# %matplotlib notebook # Does not work \n",
    "import pickle\n",
    "import numpy as np\n",
    "from matplotlib import pyplot as plt\n"
   ]
  },
  {
   "cell_type": "code",
   "execution_count": 2,
   "metadata": {},
   "outputs": [],
   "source": [
    "dataset = 'bioasq'\n",
    "workdir = './' + dataset + '_dir/'"
   ]
  },
  {
   "cell_type": "code",
   "execution_count": 3,
   "metadata": {},
   "outputs": [],
   "source": [
    "# res_file = './pruebas/bioasq_hpo_results_bohb.pickle'\n",
    "res_file = './bioasq_dir/bioasq_hpo_results_bohb.pickle'\n",
    "\n",
    "results = pickle.load(open(res_file, \"rb\"))"
   ]
  },
  {
   "cell_type": "code",
   "execution_count": 4,
   "metadata": {},
   "outputs": [
    {
     "data": {
      "text/plain": [
       "{'hpo_config': Namespace(dataset='bioasq', hpo_method='bohb', max_budget=100, min_budget=30, n_iterations=100, n_workers=1),\n",
       " 'hpo_results': <hpbandster.core.result.Result at 0x7f275abd1ba8>}"
      ]
     },
     "execution_count": 4,
     "metadata": {},
     "output_type": "execute_result"
    }
   ],
   "source": [
    "results"
   ]
  },
  {
   "cell_type": "code",
   "execution_count": 5,
   "metadata": {},
   "outputs": [],
   "source": [
    "hpo_res = results['hpo_results']"
   ]
  },
  {
   "cell_type": "code",
   "execution_count": 6,
   "metadata": {},
   "outputs": [
    {
     "data": {
      "text/plain": [
       "(36, 0, 0)"
      ]
     },
     "execution_count": 6,
     "metadata": {},
     "output_type": "execute_result"
    }
   ],
   "source": [
    "hpo_res.get_incumbent_id()"
   ]
  },
  {
   "cell_type": "code",
   "execution_count": 7,
   "metadata": {},
   "outputs": [],
   "source": [
    "all_runs = hpo_res.get_all_runs()"
   ]
  },
  {
   "cell_type": "code",
   "execution_count": 8,
   "metadata": {},
   "outputs": [],
   "source": [
    "# all_runs"
   ]
  },
  {
   "cell_type": "code",
   "execution_count": 9,
   "metadata": {},
   "outputs": [],
   "source": [
    "this = max(all_runs, key=lambda x: x.info['s']['metric'])"
   ]
  },
  {
   "cell_type": "code",
   "execution_count": 10,
   "metadata": {},
   "outputs": [
    {
     "data": {
      "text/plain": [
       "5729.528720378876"
      ]
     },
     "execution_count": 10,
     "metadata": {},
     "output_type": "execute_result"
    }
   ],
   "source": [
    "this.time_stamps['finished']"
   ]
  },
  {
   "cell_type": "code",
   "execution_count": 11,
   "metadata": {},
   "outputs": [],
   "source": [
    "def plot_best_n_evals(runs, window):\n",
    "\n",
    "    loss_data = []\n",
    "    n_data = []\n",
    "    t_data = []\n",
    "    n = 0\n",
    "    while( n < len(runs) ):\n",
    "#         print(runs[0:n])\n",
    "#         print(runs[:n-1])\n",
    "        n += window\n",
    "        best_config_at_n = min(runs[0:n], key=lambda x: x.loss)\n",
    "      \n",
    "        loss_data.append(best_config_at_n.loss) \n",
    "        if n > len(runs):\n",
    "            n_data.append(len(runs))\n",
    "        else:\n",
    "            n_data.append(n)\n",
    "            \n",
    "        t_data.append(best_config_at_n.time_stamps['submitted'])\n",
    "#         t_data.append(best_config_at_n.time_stamps['finished'])\n",
    "        \n",
    "    return { \n",
    "            'loss_data': loss_data,\n",
    "            'n_data': n_data,\n",
    "            't_data': t_data\n",
    "            }\n",
    "\n",
    "    "
   ]
  },
  {
   "cell_type": "code",
   "execution_count": 21,
   "metadata": {},
   "outputs": [
    {
     "data": {
      "image/png": "[encoded data removed]",
      "text/plain": [
       "<Figure size 432x288 with 1 Axes>"
      ]
     },
     "metadata": {
      "needs_background": "light"
     },
     "output_type": "display_data"
    }
   ],
   "source": [
    "plot_data = plot_best_n_evals(all_runs, 1)\n",
    "\n",
    "    #Plotting to our canvas\n",
    "\n",
    "# plt.scatter(plot_data['n_data'],plot_data['loss_data'])\n",
    "plt.plot(plot_data['n_data'],plot_data['loss_data'])\n",
    "# plt.scatter(plot_data['t_data'],plot_data['loss_data'])\n",
    "\n",
    "#Showing what we plotted\n",
    "\n",
    "plt.show()"
   ]
  },
  {
   "cell_type": "code",
   "execution_count": 13,
   "metadata": {},
   "outputs": [],
   "source": [
    "# plot_data['t_data']"
   ]
  },
  {
   "cell_type": "code",
   "execution_count": 14,
   "metadata": {},
   "outputs": [
    {
     "data": {
      "text/plain": [
       "300"
      ]
     },
     "execution_count": 14,
     "metadata": {},
     "output_type": "execute_result"
    }
   ],
   "source": [
    "len(plot_data['loss_data'])"
   ]
  },
  {
   "cell_type": "code",
   "execution_count": 15,
   "metadata": {},
   "outputs": [],
   "source": [
    "# plot_data['n_data']"
   ]
  }
 ],
 "metadata": {
  "kernelspec": {
   "display_name": "Python 3",
   "language": "python",
   "name": "python3"
  },
  "language_info": {
   "codemirror_mode": {
    "name": "ipython",
    "version": 3
   },
   "file_extension": ".py",
   "mimetype": "text/x-python",
   "name": "python",
   "nbconvert_exporter": "python",
   "pygments_lexer": "ipython3",
   "version": "3.7.3"
  }
 },
 "nbformat": 4,
 "nbformat_minor": 2
}
