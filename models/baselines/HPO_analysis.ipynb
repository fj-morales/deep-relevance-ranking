{
 "cells": [
  {
   "cell_type": "code",
   "execution_count": null,
   "metadata": {},
   "outputs": [],
   "source": [
    "%matplotlib inline\n",
    "# %matplotlib notebook # Does not work \n",
    "import pickle\n",
    "import numpy as np\n",
    "from matplotlib import pyplot as plt\n",
    "from matplotlib.backends.backend_pdf import PdfPages\n",
    "from hpbandster.core.result import logged_results_to_HBS_result"
   ]
  },
  {
   "cell_type": "code",
   "execution_count": null,
   "metadata": {},
   "outputs": [],
   "source": [
    "def get_runs(file):\n",
    "    results = pickle.load(open(file, \"rb\"))\n",
    "    return results['hpo_results']"
   ]
  },
  {
   "cell_type": "code",
   "execution_count": null,
   "metadata": {},
   "outputs": [],
   "source": [
    "dataset = 'bioasq'\n",
    "workdir = './' + dataset + '_dir/'"
   ]
  },
  {
   "cell_type": "code",
   "execution_count": null,
   "metadata": {},
   "outputs": [],
   "source": [
    "bio_bohb_dir = './bioasq_dir/hpo_results_bohb/'\n",
    "bio_rs_dir = './bioasq_dir/hpo_results_rs/'\n",
    "rob_bohb_dir = './robust_dir/hpo_results_bohb/'\n",
    "rob_rs_dir = './robust_dir/hpo_results_rs/'"
   ]
  },
  {
   "cell_type": "code",
   "execution_count": null,
   "metadata": {},
   "outputs": [],
   "source": [
    "# bohb_file = './bioasq_dir/bioasq_hpo_results_bohb.pickle'\n",
    "# rs_file = './bioasq_dir/bioasq_hpo_results_rs.pickle'"
   ]
  },
  {
   "cell_type": "code",
   "execution_count": null,
   "metadata": {},
   "outputs": [],
   "source": []
  },
  {
   "cell_type": "code",
   "execution_count": null,
   "metadata": {},
   "outputs": [],
   "source": [
    "bohb_file = './robust_dir/robust_hpo_results_bohb20190925.pickle'\n",
    "rs_file = './robust_dir/robust_hpo_results_rs20190925.pickle'"
   ]
  },
  {
   "cell_type": "code",
   "execution_count": null,
   "metadata": {},
   "outputs": [],
   "source": [
    "# # Intermediate results\n",
    "\n",
    "# # bohb_results = logged_results_to_HBS_result(bio_bohb_dir)\n",
    "# # rs_results = logged_results_to_HBS_result(bio_rs_dir)\n",
    "\n",
    "# bohb_results = logged_results_to_HBS_result(rob_bohb_dir)\n",
    "# rs_results = logged_results_to_HBS_result(rob_rs_dir)"
   ]
  },
  {
   "cell_type": "code",
   "execution_count": null,
   "metadata": {},
   "outputs": [],
   "source": [
    "# Final results\n",
    "\n",
    "bohb_results = get_runs(bohb_file)\n",
    "rs_results = get_runs(rs_file)"
   ]
  },
  {
   "cell_type": "code",
   "execution_count": null,
   "metadata": {},
   "outputs": [],
   "source": [
    "# \n",
    "\n",
    "all_runs_bohb = bohb_results.get_all_runs()\n",
    "all_runs_rs = rs_results.get_all_runs()"
   ]
  },
  {
   "cell_type": "code",
   "execution_count": null,
   "metadata": {},
   "outputs": [],
   "source": [
    "hour = 3600\n",
    "\n",
    "pp = PdfPages('hpo_test.pdf')\n",
    "plt.figure()\n",
    "plt.clf()\n",
    "\n",
    "plt.title('y vs x')\n",
    "plt.xlabel('x axis', fontsize = 13)\n",
    "plt.ylabel('y axis', fontsize = 13)\n",
    "\n",
    "\n",
    "incumbent_rs = rs_results.get_incumbent_trajectory()\n",
    "incumbent_bohb = bohb_results.get_incumbent_trajectory()\n",
    "plt.plot([x/hour for x in incumbent_rs['times_finished']], incumbent_rs['losses'])\n",
    "plt.plot([x/hour for x in incumbent_bohb['times_finished']], incumbent_bohb['losses'])\n",
    "pp.savefig()\n",
    "plt.show()\n",
    "pp.close()"
   ]
  },
  {
   "cell_type": "code",
   "execution_count": null,
   "metadata": {},
   "outputs": [],
   "source": [
    "min(rs_results.get_incumbent_trajectory()['losses'])"
   ]
  },
  {
   "cell_type": "code",
   "execution_count": null,
   "metadata": {},
   "outputs": [],
   "source": [
    "rs_results.get_incumbent_trajectory()"
   ]
  },
  {
   "cell_type": "code",
   "execution_count": null,
   "metadata": {},
   "outputs": [],
   "source": [
    "min(bohb_results.get_incumbent_trajectory()['losses'])"
   ]
  },
  {
   "cell_type": "code",
   "execution_count": null,
   "metadata": {},
   "outputs": [],
   "source": [
    "bohb_results.get_runs_by_id(bohb_results.get_incumbent_id())[0].info"
   ]
  }
 ],
 "metadata": {
  "kernelspec": {
   "display_name": "Python 3",
   "language": "python",
   "name": "python3"
  },
  "language_info": {
   "codemirror_mode": {
    "name": "ipython",
    "version": 3
   },
   "file_extension": ".py",
   "mimetype": "text/x-python",
   "name": "python",
   "nbconvert_exporter": "python",
   "pygments_lexer": "ipython3",
   "version": "3.7.3"
  }
 },
 "nbformat": 4,
 "nbformat_minor": 2
}
