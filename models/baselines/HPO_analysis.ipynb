{
 "cells": [
  {
   "cell_type": "code",
   "execution_count": 1,
   "metadata": {},
   "outputs": [],
   "source": [
    "%matplotlib inline\n",
    "# %matplotlib notebook # Does not work \n",
    "import pickle\n",
    "import numpy as np\n",
    "from matplotlib import pyplot as plt"
   ]
  },
  {
   "cell_type": "code",
   "execution_count": 2,
   "metadata": {},
   "outputs": [],
   "source": [
    "def get_runs(file):\n",
    "    results = pickle.load(open(file, \"rb\"))\n",
    "    return results['hpo_results']"
   ]
  },
  {
   "cell_type": "code",
   "execution_count": 3,
   "metadata": {},
   "outputs": [],
   "source": [
    "dataset = 'bioasq'\n",
    "workdir = './' + dataset + '_dir/'"
   ]
  },
  {
   "cell_type": "code",
   "execution_count": 4,
   "metadata": {},
   "outputs": [],
   "source": [
    "bohb_file = './bioasq_dir/bioasq_hpo_results_bohb.pickle'\n",
    "rs_file = './bioasq_dir/bioasq_hpo_results_rs.pickle'\n",
    "\n",
    "\n",
    "bohb_results = get_runs(bohb_file)\n",
    "rs_results = get_runs(rs_file)"
   ]
  },
  {
   "cell_type": "code",
   "execution_count": 5,
   "metadata": {},
   "outputs": [],
   "source": [
    "all_runs_bohb = bohb_results.get_all_runs()\n",
    "all_runs_rs = rs_results.get_all_runs()"
   ]
  },
  {
   "cell_type": "code",
   "execution_count": 6,
   "metadata": {},
   "outputs": [
    {
     "data": {
      "image/png": "[encoded data removed]",
      "text/plain": [
       "<Figure size 432x288 with 1 Axes>"
      ]
     },
     "metadata": {
      "needs_background": "light"
     },
     "output_type": "display_data"
    }
   ],
   "source": [
    "hour = 3600\n",
    "\n",
    "incumbent_rs = rs_results.get_incumbent_trajectory()\n",
    "incumbent_bohb = bohb_results.get_incumbent_trajectory()\n",
    "plt.plot([x/hour for x in incumbent_rs['times_finished']], incumbent_rs['losses'])\n",
    "plt.plot([x/hour for x in incumbent_bohb['times_finished']], incumbent_bohb['losses'])\n",
    "plt.show()"
   ]
  }
 ],
 "metadata": {
  "kernelspec": {
   "display_name": "Python 3",
   "language": "python",
   "name": "python3"
  },
  "language_info": {
   "codemirror_mode": {
    "name": "ipython",
    "version": 3
   },
   "file_extension": ".py",
   "mimetype": "text/x-python",
   "name": "python",
   "nbconvert_exporter": "python",
   "pygments_lexer": "ipython3",
   "version": "3.7.3"
  }
 },
 "nbformat": 4,
 "nbformat_minor": 2
}
