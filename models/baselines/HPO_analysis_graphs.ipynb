{
 "cells": [
  {
   "cell_type": "code",
   "execution_count": 1,
   "metadata": {},
   "outputs": [],
   "source": [
    "%matplotlib inline\n",
    "# %matplotlib notebook # Does not work \n",
    "import pickle \n",
    "import numpy as np\n",
    "from matplotlib import pyplot as plt\n",
    "import json\n",
    "from hpbandster.core.result import logged_results_to_HBS_result\n",
    "from matplotlib.backends.backend_pdf import PdfPages\n",
    "from datetime import datetime\n",
    "import os"
   ]
  },
  {
   "cell_type": "code",
   "execution_count": 2,
   "metadata": {},
   "outputs": [],
   "source": [
    "def open_hpo_results_files(file):\n",
    "    with open(file, 'rt') as f_in:\n",
    "        raw = []\n",
    "        for line in f_in:\n",
    "            raw.append(json.loads(line))\n",
    "        return raw"
   ]
  },
  {
   "cell_type": "code",
   "execution_count": 3,
   "metadata": {},
   "outputs": [],
   "source": [
    "def load_hpo_results(results_dir):\n",
    "    results_file = results_dir + 'results.json'\n",
    "    config_file = results_dir + 'configs.json'\n",
    "    return {\n",
    "        'results_lines': open_hpo_results_files(results_file),\n",
    "        'config_lines': open_hpo_results_files(config_file)        \n",
    "        }"
   ]
  },
  {
   "cell_type": "code",
   "execution_count": 4,
   "metadata": {},
   "outputs": [],
   "source": [
    "def load_results(file):\n",
    "    with open(file, 'rt') as f_in:\n",
    "        results = []\n",
    "        for line in f_in:\n",
    "#             line = line.strip('\\n')\n",
    "            results.append(json.loads(line))\n",
    "        return {'loss_data': [x[3]['loss'] for x in results if x[1] == 100], # Get only runs on 100% of data\n",
    "#         return {'loss_data': [x[3]['loss'] for x in results], # Get only runs on 100% of data\n",
    "#                 'dataset': 'tvqa',\n",
    "#                 'hpo_method': file.split('/')[-2].split('_')[2],\n",
    "                'times': [x[2] for x in results if x[1] == 100],\n",
    "                'file': file\n",
    "               }\n",
    "#         return results"
   ]
  },
  {
   "cell_type": "code",
   "execution_count": 5,
   "metadata": {},
   "outputs": [],
   "source": [
    "def get_hpo_results_dir(workdir, hpo_method):\n",
    "    \n",
    "    results_dirs = []\n",
    "    for root, dirs, files in os.walk(workdir, topdown=False):\n",
    "        for name in dirs:\n",
    "            if (hpo_method in name):\n",
    "                results_dirs.append(os.path.join(root, name))\n",
    "    return results_dirs"
   ]
  },
  {
   "cell_type": "code",
   "execution_count": 6,
   "metadata": {},
   "outputs": [],
   "source": [
    "def plot_results(dataset, hpo_method, *plots, default=0, n=0, n_lim=0, time_flag=False, raw_flag=False):\n",
    "\n",
    "    \n",
    "    \n",
    "    plt.figure(num=None, figsize=(12, 5), dpi=80, facecolor='w', edgecolor='k')\n",
    "    plt.clf()\n",
    "\n",
    "    plt.title(dataset.upper() + ' HPO validation set' )\n",
    "    \n",
    "    plt.axhline(y=default, color='r', linestyle='-', label = 'Default hp')\n",
    "    \n",
    "    for plot_data in plots:\n",
    "        print(len(plot_data['loss_data']), len(plot_data['times']))\n",
    "        plot_id = plot_data['file'].split('/')[-2]\n",
    "        len_data = len(plot_data['loss_data'])\n",
    "        pp = PdfPages(dataset + '_hpo_curve.pdf')\n",
    "        pp.savefig()\n",
    "#         y_results = [1 - min(plot_data['loss_data'][0:i+1]) for i,x in enumerate(plot_data['loss_data'])]\n",
    "        y_results = [1 - min(plot_data['loss_data'][0:i+1]) for i,x in enumerate(plot_data['loss_data'])]\n",
    "        inverse_loss = [1 - x for x in plot_data['loss_data']]\n",
    "    \n",
    "        if time_flag:\n",
    "            initial = plot_data['times'][0]['submitted']\n",
    "#             time_diff = plot_data['times'][-1]['finished'] - \n",
    "#             idx = list(np.linspace(0, time_diff, num=len(metric_max_avg)))\n",
    "            idx = [x['finished'] - initial for x in plot_data['times']]\n",
    "        \n",
    "            idx = [x/3600 for x in idx]\n",
    "            plt.xlabel('wallclock-time [hr]', fontsize = 13)\n",
    "        else:\n",
    "            idx = list(range(0,len(y_results)))\n",
    "            plt.xlabel('# iterations', fontsize = 13)\n",
    "        \n",
    "        if dataset == 'tvqa':            \n",
    "            plt.ylabel('Loss/Accuracy', fontsize = 13)\n",
    "        else:\n",
    "            plt.ylabel('Loss/MAP', fontsize = 13)\n",
    "        \n",
    "        \n",
    "        \n",
    "        p = plt.plot(idx[n:n_lim], y_results[n:n_lim], label = hpo_method.upper() + '_'+ plot_id)\n",
    "        \n",
    "#         print(p[0].get_color())\n",
    "        \n",
    "        if raw_flag:\n",
    "            plt.plot(idx[n:n_lim], inverse_loss[n:n_lim], label = 'Raw '+ hpo_method.upper(), color=p[0].get_color(), alpha=0.3)\n",
    "        \n",
    "#     plt.plot([x/hour for x in incumbent_bohb['times_finished']], incumbent_bohb['losses'])\n",
    "    pp.savefig()\n",
    "    plt.legend()\n",
    "    plt.show()\n",
    "    pp.close()\n",
    "    return [y_results, idx]"
   ]
  },
  {
   "cell_type": "code",
   "execution_count": 7,
   "metadata": {},
   "outputs": [],
   "source": [
    "def get_best_config(*results_dirs):\n",
    "    \n",
    "    for results_dir in results_dirs:\n",
    "        results = logged_results_to_HBS_result(results_dir)\n",
    "        print( {'dir': results_dir,\n",
    "                'config': results.get_id2config_mapping()[results.get_incumbent_id()]['config'],\n",
    "                'mean_metric': results.get_runs_by_id(results.get_incumbent_id())[-1].info['mean_metric']\n",
    "               }, '\\n' )"
   ]
  },
  {
   "cell_type": "code",
   "execution_count": 8,
   "metadata": {},
   "outputs": [
    {
     "name": "stdout",
     "output_type": "stream",
     "text": [
      "1074 1074\n",
      "1500 1500\n",
      "869 869\n",
      "870 870\n",
      "962 962\n"
     ]
    },
    {
     "data": {
      "image/png": "[encoded data removed]",
      "text/plain": [
       "<Figure size 960x400 with 1 Axes>"
      ]
     },
     "metadata": {},
     "output_type": "display_data"
    }
   ],
   "source": [
    "# For each dataset and hpo method\n",
    "\n",
    "\n",
    "workdirs = [ \n",
    "            './deep-relevance-ranking/models/baselines/bioasq_dir/',\n",
    "#             './deep-relevance-ranking/models/baselines/robust_dir/',\n",
    "#             './TVQA/workdir/'\n",
    "           ]\n",
    "dev_defaults = [\n",
    "                0.4371,\n",
    "#                 0.2292,\n",
    "#                 0.51942\n",
    "               ]\n",
    "\n",
    "hpo_methods = [\n",
    "                'bohb', \n",
    "#                 'rs'\n",
    "]\n",
    "\n",
    "# adjust_min=True\n",
    "adjust_min=False\n",
    "\n",
    "signals = []\n",
    "for wdir, dev_def in zip(workdirs, dev_defaults):\n",
    "    for h in hpo_methods:\n",
    "        \n",
    "        # Get results_dir\n",
    "        results_dirs = get_hpo_results_dir(wdir, h)\n",
    "\n",
    "#         print(results_dirs)\n",
    "        # Get mean, std\n",
    "        results_files = [x + '/results.json' for x in results_dirs]\n",
    "\n",
    "        if 'bioasq' in wdir.lower():\n",
    "            dataset = 'bioasq'\n",
    "        elif 'robust' in wdir.lower():\n",
    "            dataset = 'robust'\n",
    "        elif 'TVQA'.lower() in wdir.lower():\n",
    "            dataset = 'tvqa'\n",
    "        \n",
    "#         print(dataset)\n",
    "#         avg_res = get_avg_results(results_files)\n",
    "        res_hpo = []\n",
    "        for r in results_files:\n",
    "            res_hpo.append(load_results(r))\n",
    "        \n",
    "        if adjust_min:\n",
    "            n_limit = min(len(r['loss_data']) for r in res_hpo)\n",
    "            print(n_limit)\n",
    "        else:\n",
    "            n_limit = max(len(r['loss_data']) for r in res_hpo)\n",
    "            \n",
    "#         n_limit = 800\n",
    "        max_time = plot_results(dataset, h, *res_hpo, default=dev_def, n=0, n_lim=n_limit, time_flag=True, raw_flag=False)\n",
    "        \n",
    "        signals.append(max_time)\n",
    "\n",
    "        # Plot\n",
    "\n",
    "        # Save results all results"
   ]
  },
  {
   "cell_type": "code",
   "execution_count": 9,
   "metadata": {},
   "outputs": [],
   "source": [
    "# plot_results(rob_bohb_results, rob_rs_results,  default=0.2292, n=0, time_flag=True, raw_flag=True)\n",
    "# plot_results(bio_bohb_results,bio_rs_results , default=0.4371, n=0, n_lim=0, time_flag=True)"
   ]
  },
  {
   "cell_type": "code",
   "execution_count": 10,
   "metadata": {},
   "outputs": [],
   "source": [
    "# now = datetime.now()\n",
    "# timestamp = datetime.timestamp(now)\n",
    "\n",
    "# tvqa_bohb_dir = tvqa_bohb_file.replace('results.json','')\n",
    "# tvqa_rs_dir = tvqa_rs_file.replace('results.json','')\n",
    "\n",
    "# analyzed_results = {'tvqa_bohb': load_hpo_results(tvqa_bohb_dir),\n",
    "#                     'tvqa_rs': load_hpo_results(tvqa_rs_dir)\n",
    "#                     }\n",
    "\n",
    "# analyzed_results_file = './tvqa_hpo_results_' + str(timestamp) + '.pkl'\n"
   ]
  },
  {
   "cell_type": "code",
   "execution_count": 11,
   "metadata": {},
   "outputs": [],
   "source": [
    "# pickle.dump( analyzed_results, open(analyzed_results_file, 'wb'))\n",
    "\n",
    "# loaded_results = pickle.load( open( analyzed_results_file, \"rb\" ))\n",
    "# for k in loaded_results.keys():\n",
    "#     print(loaded_results[k]['results_lines'][0], '\\n')"
   ]
  },
  {
   "cell_type": "code",
   "execution_count": 12,
   "metadata": {},
   "outputs": [],
   "source": [
    "# get_best_config(tvqa_bohb_dir, tvqa_rs_dir)"
   ]
  }
 ],
 "metadata": {
  "kernelspec": {
   "display_name": "Python 3",
   "language": "python",
   "name": "python3"
  },
  "language_info": {
   "codemirror_mode": {
    "name": "ipython",
    "version": 3
   },
   "file_extension": ".py",
   "mimetype": "text/x-python",
   "name": "python",
   "nbconvert_exporter": "python",
   "pygments_lexer": "ipython3",
   "version": "3.7.3"
  }
 },
 "nbformat": 4,
 "nbformat_minor": 2
}
